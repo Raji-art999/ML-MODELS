{
  "nbformat": 4,
  "nbformat_minor": 0,
  "metadata": {
    "colab": {
      "provenance": []
    },
    "kernelspec": {
      "name": "python3",
      "display_name": "Python 3"
    },
    "language_info": {
      "name": "python"
    }
  },
  "cells": [
    {
      "cell_type": "markdown",
      "source": [
        "What is a feature? feature is an individual measurable property or characteristic of a phenomenon\n",
        "\n",
        "In simple terms, its process of extracting meaningful information from the raw text data and make it useable for the machine learning algorithm.\n",
        "getting the system to recongise the cateogries and what are the characteristics within the text , including the criteria.\n",
        "\n",
        "Example : Extracting news data with different categories such as news and sports , where you are train the model to predict the news categories\n",
        "\n",
        "Explain the three plillars, gathering the data (shows as diagramatic presentation)\n",
        "\n"
      ],
      "metadata": {
        "id": "3QqNmdQPGEmQ"
      }
    },
    {
      "cell_type": "markdown",
      "source": [
        "\n",
        "whaat is Scikit-Learn is a free machine learning library for Python.\n",
        "It supports both supervised(labelled data) and unsupervised machine learning(unlabelled data), providing diverse algorithms for classification, regression, clustering, and dimensionality reduction.\n",
        "The library is built using many libraries you may already be familiar with, such as NumPy and SciPy.\n",
        "It also plays well with other libraries, such as Pandas and Seaborn.\n",
        "\n",
        "\n"
      ],
      "metadata": {
        "id": "H8sjHCbRQO32"
      }
    },
    {
      "cell_type": "markdown",
      "source": [
        "What is a vector?\n",
        "A vector in a simple term can be considered as a single-dimensional array. With respect to Python, a vector is a one-dimensional array of lists\n"
      ],
      "metadata": {
        "id": "D4Lw07cm9yC7"
      }
    },
    {
      "cell_type": "markdown",
      "source": [
        "Syntax:\n",
        "numpy.array(list)"
      ],
      "metadata": {
        "id": "zJOpBB6DfoIe"
      }
    },
    {
      "cell_type": "code",
      "source": [
        "import numpy as np\n",
        "\n",
        "lst = [10,20,30,40,50]\n",
        "\n",
        "vctr = np.array(lst)\n",
        "\n",
        "vctr = np.array(lst)\n",
        "\n",
        "print(\"Vector created from a list:\")\n",
        "print(vctr)"
      ],
      "metadata": {
        "colab": {
          "base_uri": "https://localhost:8080/"
        },
        "id": "CZtKWpBZfuG1",
        "outputId": "48cad5d9-7a7e-4909-dcc5-07980701dc66"
      },
      "execution_count": null,
      "outputs": [
        {
          "output_type": "stream",
          "name": "stdout",
          "text": [
            "Vector created from a list:\n",
            "[10 20 30 40 50]\n"
          ]
        }
      ]
    },
    {
      "cell_type": "code",
      "source": [
        "import numpy as np\n",
        "\n",
        "lst1 = [10,20,30,40,50]\n",
        "lst2 = [1,2,3,4,5]\n",
        "\n",
        "vctr1 = np.array(lst1)\n",
        "\n",
        "vctr2= np.array(lst2)\n",
        "\n",
        "print(\"Vector created from a list 1:\")\n",
        "print(vctr1)\n",
        "print(\"Vector created from a list 2:\")\n",
        "print(vctr2)\n",
        "\n",
        "vctr_mul = vctr1*vctr2\n",
        "print(\"Multiplication of two vectors: \",vctr_mul)"
      ],
      "metadata": {
        "colab": {
          "base_uri": "https://localhost:8080/"
        },
        "id": "QQOe878WgRn-",
        "outputId": "bc99d06f-3ebb-4830-a3ff-4118c4fffbe3"
      },
      "execution_count": null,
      "outputs": [
        {
          "output_type": "stream",
          "name": "stdout",
          "text": [
            "Vector created from a list 1:\n",
            "[10 20 30 40 50]\n",
            "Vector created from a list 2:\n",
            "[1 2 3 4 5]\n",
            "Multiplication of two vectors:  [ 10  40  90 160 250]\n"
          ]
        }
      ]
    },
    {
      "cell_type": "code",
      "source": [
        "import numpy as np\n",
        "\n",
        "lst1 = [10,20,30,40,50]\n",
        "lst2 = [1,2,3,4,5]\n",
        "\n",
        "\n",
        "vctr1 = np.array(lst1)\n",
        "\n",
        "vctr2= np.array(lst2)\n",
        "\n",
        "\n",
        "print(\"Vector created from a list 1:\")\n",
        "print(vctr1)\n",
        "print(\"Vector created from a list 2:\")\n",
        "print(vctr2)\n",
        "\n",
        "vctr_add = vctr1+vctr2\n",
        "print(\"Addition of two vectors: \",vctr_add)"
      ],
      "metadata": {
        "colab": {
          "base_uri": "https://localhost:8080/"
        },
        "id": "9wA64l8SgCSm",
        "outputId": "7018e258-2b70-41dc-acf2-33d1cd97bb4c"
      },
      "execution_count": null,
      "outputs": [
        {
          "output_type": "stream",
          "name": "stdout",
          "text": [
            "Vector created from a list 1:\n",
            "[10 20 30 40 50]\n",
            "Vector created from a list 2:\n",
            "[1 2 3 4 5]\n",
            "Addition of two vectors:  [11 22 33 44 55]\n"
          ]
        }
      ]
    },
    {
      "cell_type": "markdown",
      "source": [
        "What is supervised and unsupervised machine learning ?\n",
        "\n"
      ],
      "metadata": {
        "id": "yG47Qdij7QIS"
      }
    },
    {
      "cell_type": "code",
      "source": [
        "import numpy as np\n",
        "\n",
        "lst1 = [10,20,30,40,50]\n",
        "lst2 = [10,20,30,40,50]\n",
        "\n",
        "vctr1 = np.array(lst1)\n",
        "\n",
        "vctr2= np.array(lst2)\n",
        "\n",
        "print(\"Vector created from a list 1:\")\n",
        "print(vctr1)\n",
        "print(\"Vector created from a list 2:\")\n",
        "print(vctr2)\n",
        "\n",
        "vctr_div = vctr1/vctr2\n",
        "print(\"Division of two vectors: \",vctr_div)"
      ],
      "metadata": {
        "colab": {
          "base_uri": "https://localhost:8080/"
        },
        "id": "tlUr_qWhgXO6",
        "outputId": "96206f1c-207a-483d-aa94-3b0bc91394dc"
      },
      "execution_count": null,
      "outputs": [
        {
          "output_type": "stream",
          "name": "stdout",
          "text": [
            "Vector created from a list 1:\n",
            "[10 20 30 40 50]\n",
            "Vector created from a list 2:\n",
            "[10 20 30 40 50]\n",
            "Division of two vectors:  [1. 1. 1. 1. 1.]\n"
          ]
        }
      ]
    },
    {
      "cell_type": "code",
      "source": [
        "import numpy as np\n",
        "\n",
        "lst1 = [10,20,30,40,50]\n",
        "lst2 = [1,1,1,1,1]\n",
        "\n",
        "\n",
        "vctr1 = np.array(lst1)\n",
        "\n",
        "vctr2= np.array(lst2)\n",
        "\n",
        "\n",
        "print(\"Vector created from a list 1:\")\n",
        "print(vctr1)\n",
        "print(\"Vector created from a list 2:\")\n",
        "print(vctr2)\n",
        "\n",
        "vctr_dot = vctr1.dot(vctr2)\n",
        "print(\"Dot product of two vectors: \",vctr_dot)"
      ],
      "metadata": {
        "colab": {
          "base_uri": "https://localhost:8080/"
        },
        "id": "M8CEkrBjgaFK",
        "outputId": "ff00649d-07b8-4244-a678-71cb46f57faa"
      },
      "execution_count": null,
      "outputs": [
        {
          "output_type": "stream",
          "name": "stdout",
          "text": [
            "Vector created from a list 1:\n",
            "[10 20 30 40 50]\n",
            "Vector created from a list 2:\n",
            "[1 1 1 1 1]\n",
            "Dot product of two vectors:  150\n"
          ]
        }
      ]
    },
    {
      "cell_type": "code",
      "source": [
        "pip install scikit-learn"
      ],
      "metadata": {
        "colab": {
          "base_uri": "https://localhost:8080/"
        },
        "id": "SY7kKCe1Q_xp",
        "outputId": "22a91925-4870-469e-b206-692f63e67b34"
      },
      "execution_count": null,
      "outputs": [
        {
          "output_type": "stream",
          "name": "stdout",
          "text": [
            "Requirement already satisfied: scikit-learn in /usr/local/lib/python3.10/dist-packages (1.2.2)\n",
            "Requirement already satisfied: numpy>=1.17.3 in /usr/local/lib/python3.10/dist-packages (from scikit-learn) (1.23.5)\n",
            "Requirement already satisfied: scipy>=1.3.2 in /usr/local/lib/python3.10/dist-packages (from scikit-learn) (1.11.3)\n",
            "Requirement already satisfied: joblib>=1.1.1 in /usr/local/lib/python3.10/dist-packages (from scikit-learn) (1.3.2)\n",
            "Requirement already satisfied: threadpoolctl>=2.0.0 in /usr/local/lib/python3.10/dist-packages (from scikit-learn) (3.2.0)\n"
          ]
        }
      ]
    },
    {
      "cell_type": "code",
      "source": [
        "import nltk\n",
        "nltk.download('punkt')\n",
        "nltk.download('averaged_perceptron_tagger')"
      ],
      "metadata": {
        "colab": {
          "base_uri": "https://localhost:8080/"
        },
        "id": "C8cDfwn7IP0i",
        "outputId": "0358b36d-092a-4261-8f29-7eb4a1d3e990"
      },
      "execution_count": null,
      "outputs": [
        {
          "output_type": "stream",
          "name": "stderr",
          "text": [
            "[nltk_data] Downloading package punkt to /root/nltk_data...\n",
            "[nltk_data]   Package punkt is already up-to-date!\n",
            "[nltk_data] Downloading package averaged_perceptron_tagger to\n",
            "[nltk_data]     /root/nltk_data...\n",
            "[nltk_data]   Package averaged_perceptron_tagger is already up-to-\n",
            "[nltk_data]       date!\n"
          ]
        },
        {
          "output_type": "execute_result",
          "data": {
            "text/plain": [
              "True"
            ]
          },
          "metadata": {},
          "execution_count": 6
        }
      ]
    },
    {
      "cell_type": "code",
      "execution_count": null,
      "metadata": {
        "colab": {
          "base_uri": "https://localhost:8080/"
        },
        "id": "pO1VqGQzFdsD",
        "outputId": "612c3173-3586-40fb-e588-d4e7d5486dfd"
      },
      "outputs": [
        {
          "output_type": "stream",
          "name": "stdout",
          "text": [
            "50\n",
            "['Natural', 'Language', 'Processing', '(', 'NLP', ')', 'is', 'a', 'subfield', 'of', 'computer', 'science', ',', 'artificial', 'intelligence', ',', 'and', 'computational', 'linguistics', 'concerned']\n"
          ]
        },
        {
          "output_type": "stream",
          "name": "stderr",
          "text": [
            "[nltk_data] Downloading package punkt to /root/nltk_data...\n",
            "[nltk_data]   Package punkt is already up-to-date!\n"
          ]
        }
      ],
      "source": [
        "import nltk\n",
        "nltk.download('punkt')\n",
        "from nltk.tokenize import word_tokenize\n",
        "from sklearn.feature_extraction.text import CountVectorizer, TfidfVectorizer\n",
        "from sklearn.decomposition import NMF, PCA\n",
        "from sklearn.manifold import TSNE\n",
        "import numpy as np\n",
        "import spacy\n",
        "\n",
        "# file_path = \"flood_news.txt\"\n",
        "\n",
        "# with open(file_path, 'r') as file:\n",
        "#     text = file.read()\n",
        "\n",
        "# Input text\n",
        "text = \"Natural Language Processing (NLP) is a subfield of computer science, \" \\\n",
        "       \"artificial intelligence, and computational linguistics concerned with \" \\\n",
        "       \"the interactions between computers and human (natural) languages. \" \\\n",
        "       \"It focuses on how to program computers to process and analyze large \" \\\n",
        "       \"amounts of natural language data.\"\n",
        "\n",
        "# Tokenize the text\n",
        "tokens = word_tokenize(text)\n",
        "print(len(tokens))\n",
        "print(tokens[:20])"
      ]
    },
    {
      "cell_type": "markdown",
      "source": [
        "Count Vectorizer:\n",
        "Machines cannot understand characters and words. So when dealing with text data we need to represent it in numbers to be understood by the machine. Countvectorizer is a method to convert text to numerical data\n",
        "\n",
        "example:\n",
        "\n",
        "text = [‘Hello my name is james, this is my python notebook’]\n",
        "\n",
        "Where it can be used?\n",
        "\n",
        "Countvectorizer makes it easy for text data to be used directly in machine learning and deep learning models such as text classification."
      ],
      "metadata": {
        "id": "nRbV1gbQsbV_"
      }
    },
    {
      "cell_type": "code",
      "source": [
        "# CountVectorizer\n",
        "count_vec = CountVectorizer()\n",
        "X_count = count_vec.fit_transform([text])\n",
        "print('CountVectorizer:')\n",
        "print(count_vec.get_feature_names_out()[:10])\n",
        "print(count_vec.get_feature_names_out())\n",
        "print(X_count.toarray()[0])\n",
        "print(X_count.toarray()[0][:10])"
      ],
      "metadata": {
        "colab": {
          "base_uri": "https://localhost:8080/"
        },
        "id": "T_-gQk1BF0Mu",
        "outputId": "45be927c-edac-471a-9d3f-f65372fb1fe1"
      },
      "execution_count": null,
      "outputs": [
        {
          "output_type": "stream",
          "name": "stdout",
          "text": [
            "CountVectorizer:\n",
            "['amounts' 'analyze' 'and' 'artificial' 'between' 'computational'\n",
            " 'computer' 'computers' 'concerned' 'data']\n",
            "['amounts' 'analyze' 'and' 'artificial' 'between' 'computational'\n",
            " 'computer' 'computers' 'concerned' 'data' 'focuses' 'how' 'human'\n",
            " 'intelligence' 'interactions' 'is' 'it' 'language' 'languages' 'large'\n",
            " 'linguistics' 'natural' 'nlp' 'of' 'on' 'process' 'processing' 'program'\n",
            " 'science' 'subfield' 'the' 'to' 'with']\n",
            "[1 1 3 1 1 1 1 2 1 1 1 1 1 1 1 1 1 2 1 1 1 3 1 2 1 1 1 1 1 1 1 2 1]\n",
            "[1 1 3 1 1 1 1 2 1 1]\n"
          ]
        }
      ]
    },
    {
      "cell_type": "markdown",
      "source": [
        "TF-IDF stands for Term Frequency Inverse Document Frequency of records. It can be defined as the calculation of how relevant a word in a series or corpus is to a text. The meaning increases proportionally to the number of times in the text a word appears but is compensated by the word frequency in the corpus (data-set).\n",
        "\n",
        "tf(t,d) = count of t in d / number of words in d\n",
        "\n",
        "\n",
        "df(t) = occurrence of t in documents\n",
        "\n",
        "\n",
        "df(t) = N(t)\n",
        "where\n",
        "df(t) = Document frequency of a term t\n",
        "N(t) = Number of documents containing the term t"
      ],
      "metadata": {
        "id": "_OFc8lv1tmV6"
      }
    },
    {
      "cell_type": "code",
      "source": [
        "# TF-IDF\n",
        "tfidf_vec = TfidfVectorizer()\n",
        "X_tfidf = tfidf_vec.fit_transform([text])\n",
        "print('TF-IDF:')\n",
        "print(tfidf_vec.get_feature_names_out())\n",
        "# length of the whole text --> confirm it\n",
        "print(X_tfidf.toarray()[0])"
      ],
      "metadata": {
        "colab": {
          "base_uri": "https://localhost:8080/"
        },
        "id": "9UxoXl33F7dE",
        "outputId": "b963ff41-4a9b-4dc1-870b-138c4a7bb980"
      },
      "execution_count": null,
      "outputs": [
        {
          "output_type": "stream",
          "name": "stdout",
          "text": [
            "TF-IDF:\n",
            "['100' '20' '200' '2016' '56' '70' '700' 'about' 'abruptly' 'across'\n",
            " 'actions' 'added' 'advanced' 'after' 'against' 'agencies' 'alerts' 'all'\n",
            " 'alone' 'already' 'also' 'altitudes' 'an' 'and' 'any' 'are' 'area'\n",
            " 'around' 'as' 'at' 'attribute' 'authorities' 'authority' 'autonomous'\n",
            " 'avalanches' 'banks' 'bbc' 'be' 'because' 'become' 'becomes' 'becoming'\n",
            " 'been' 'begin' 'being' 'borders' 'boulders' 'buildings' 'bureaucracy'\n",
            " 'burst' 'bursting' 'bursts' 'but' 'by' 'campaigner' 'campaigners' 'can'\n",
            " 'cause' 'caused' 'causing' 'central' 'centre' 'certainly' 'changes'\n",
            " 'characterised' 'checking' 'china' 'chungthang' 'climate' 'cloudburst'\n",
            " 'cloudbursts' 'collapsed' 'collapses' 'commission' 'communities'\n",
            " 'concentrated' 'confirmed' 'constant' 'construction' 'could' 'cryosphere'\n",
            " 'dam' 'damage' 'dams' 'dangerous' 'deadly' 'decades' 'defence' 'delhi'\n",
            " 'department' 'deploy' 'details' 'development' 'dhiren' 'did' 'didn'\n",
            " 'died' 'director' 'disaster' 'do' 'down' 'downstream' 'drew' 'due'\n",
            " 'early' 'earthquake' 'earthquakes' 'east' 'edge' 'either' 'embassy'\n",
            " 'entails' 'equipment' 'especially' 'estimates' 'evacuate' 'even' 'event'\n",
            " 'evidence' 'exceptionally' 'expanded' 'experts' 'explain' 'fact'\n",
            " 'factors' 'failure' 'failures' 'fast' 'faster' 'fed' 'federal' 'feeds'\n",
            " 'filling' 'flash' 'flood' 'floodgates' 'flooding' 'for' 'formed' 'from'\n",
            " 'frozen' 'functioning' 'fusing' 'gates' 'geography' 'geological'\n",
            " 'getting' 'glacial' 'glacier' 'glaciers' 'glaciologists' 'glaciology'\n",
            " 'global' 'had' 'happening' 'has' 'have' 'hazards' 'he' 'heavy' 'help'\n",
            " 'helping' 'high' 'higher' 'himalayan' 'himalayas' 'hitting' 'how'\n",
            " 'icimod' 'identified' 'if' 'images' 'in' 'including' 'increase'\n",
            " 'increased' 'increasingly' 'india' 'induced' 'infrastructure' 'initiated'\n",
            " 'instability' 'install' 'installing' 'integrated' 'international'\n",
            " 'involved' 'is' 'issued' 'issuing' 'it' 'its' 'jackson' 'jacob' 'just'\n",
            " 'key' 'known' 'lack' 'lake' 'lakes' 'land' 'large' 'last' 'late' 'later'\n",
            " 'lead' 'leading' 'learnt' 'least' 'led' 'levels' 'lhonak' 'like' 'linked'\n",
            " 'local' 'long' 'looking' 'loose' 'made' 'main' 'maintained' 'make'\n",
            " 'management' 'many' 'mapping' 'may' 'means' 'meant' 'meanwhile' 'media'\n",
            " 'melt' 'melting' 'military' 'minimise' 'ministry' 'miriam' 'missing'\n",
            " 'mitigating' 'monitored' 'monitoring' 'moraines' 'more' 'most' 'mostly'\n",
            " 'mountain' 'mountainous' 'mountains' 'moved' 'much' 'named' 'national'\n",
            " 'ndma' 'needs' 'new' 'ngo' 'nine' 'no' 'non' 'none' 'north' 'not' 'now'\n",
            " 'number' 'of' 'old' 'on' 'one' 'only' 'open' 'or' 'order' 'orders'\n",
            " 'originating' 'other' 'others' 'otherwise' 'out' 'outburst' 'outbursts'\n",
            " 'overflowing' 'past' 'people' 'perhaps' 'permafrost' 'permanently'\n",
            " 'place' 'plans' 'point' 'possibility' 'prevent' 'problem' 'protesting'\n",
            " 'provide' 'question' 'questions' 'rain' 'rainfall' 'rains' 'rajak'\n",
            " 'rajeev' 'rapidly' 'real' 'received' 'region' 'regions' 'release'\n",
            " 'remains' 'reply' 'require' 'researcher' 'resources' 'responded'\n",
            " 'resulted' 'resulting' 'retreating' 'revealed' 'rising' 'risk' 'river'\n",
            " 'rivers' 'rockfalls' 'rocks' 'running' 'said' 'satellite' 'say' 'says'\n",
            " 'science' 'scientists' 'seen' 'senior' 'sensitive' 'sensitivities'\n",
            " 'september' 'set' 'setting' 'settlements' 'several' 'she' 'shows'\n",
            " 'shrestha' 'sikkim' 'since' 'slope' 'slopes' 'slowed' 'small' 'snowed'\n",
            " 'so' 'soil' 'soldiers' 'some' 'south' 'specialising' 'specialist'\n",
            " 'started' 'state' 'steiner' 'student' 'studies' 'such' 'sudden'\n",
            " 'surveyed' 'switzerland' 'system' 'systems' 'take' 'taking' 'technology'\n",
            " 'teesta' 'temperatures' 'than' 'that' 'thawing' 'the' 'them' 'then'\n",
            " 'there' 'these' 'they' 'thinning' 'this' 'three' 'tibet' 'time' 'times'\n",
            " 'to' 'together' 'told' 'too' 'traditionally' 'triggered' 'two' 'unclear'\n",
            " 'university' 'unstable' 'up' 'urgently' 'use' 'very' 'via' 'view' 'want'\n",
            " 'warmer' 'warming' 'warned' 'warning' 'warnings' 'was' 'wasn' 'water'\n",
            " 'waters' 'we' 'week' 'weeks' 'were' 'what' 'when' 'where' 'which' 'while'\n",
            " 'who' 'why' 'will' 'with' 'words' 'work' 'working' 'worldwide' 'years']\n",
            "[0.01012272 0.01012272 0.01012272 0.01012272 0.01012272 0.01012272\n",
            " 0.01012272 0.01012272 0.01012272 0.02024545 0.01012272 0.01012272\n",
            " 0.01012272 0.03036817 0.01012272 0.02024545 0.02024545 0.04049089\n",
            " 0.01012272 0.02024545 0.04049089 0.01012272 0.08098178 0.23282262\n",
            " 0.02024545 0.10122723 0.01012272 0.02024545 0.03036817 0.1315954\n",
            " 0.01012272 0.02024545 0.01012272 0.01012272 0.03036817 0.01012272\n",
            " 0.03036817 0.04049089 0.02024545 0.01012272 0.01012272 0.01012272\n",
            " 0.04049089 0.01012272 0.02024545 0.01012272 0.01012272 0.01012272\n",
            " 0.01012272 0.02024545 0.01012272 0.01012272 0.06073634 0.03036817\n",
            " 0.01012272 0.01012272 0.04049089 0.01012272 0.02024545 0.02024545\n",
            " 0.01012272 0.02024545 0.01012272 0.01012272 0.01012272 0.02024545\n",
            " 0.01012272 0.01012272 0.01012272 0.01012272 0.01012272 0.01012272\n",
            " 0.01012272 0.01012272 0.01012272 0.01012272 0.01012272 0.01012272\n",
            " 0.01012272 0.02024545 0.01012272 0.02024545 0.01012272 0.02024545\n",
            " 0.06073634 0.01012272 0.01012272 0.01012272 0.01012272 0.01012272\n",
            " 0.01012272 0.01012272 0.02024545 0.01012272 0.03036817 0.02024545\n",
            " 0.01012272 0.01012272 0.03036817 0.02024545 0.01012272 0.03036817\n",
            " 0.01012272 0.02024545 0.14171812 0.01012272 0.01012272 0.01012272\n",
            " 0.01012272 0.01012272 0.01012272 0.01012272 0.01012272 0.01012272\n",
            " 0.01012272 0.01012272 0.01012272 0.01012272 0.01012272 0.01012272\n",
            " 0.01012272 0.03036817 0.01012272 0.01012272 0.02024545 0.01012272\n",
            " 0.02024545 0.03036817 0.02024545 0.01012272 0.01012272 0.01012272\n",
            " 0.01012272 0.01012272 0.0911045  0.01012272 0.01012272 0.08098178\n",
            " 0.01012272 0.05061361 0.01012272 0.01012272 0.01012272 0.01012272\n",
            " 0.01012272 0.01012272 0.01012272 0.11134995 0.02024545 0.03036817\n",
            " 0.01012272 0.01012272 0.02024545 0.05061361 0.01012272 0.10122723\n",
            " 0.10122723 0.01012272 0.01012272 0.02024545 0.01012272 0.01012272\n",
            " 0.01012272 0.01012272 0.02024545 0.05061361 0.01012272 0.02024545\n",
            " 0.02024545 0.01012272 0.02024545 0.01012272 0.25306807 0.04049089\n",
            " 0.01012272 0.01012272 0.01012272 0.04049089 0.01012272 0.01012272\n",
            " 0.01012272 0.01012272 0.03036817 0.01012272 0.02024545 0.03036817\n",
            " 0.02024545 0.04049089 0.01012272 0.01012272 0.10122723 0.03036817\n",
            " 0.01012272 0.01012272 0.02024545 0.01012272 0.01012272 0.01012272\n",
            " 0.1315954  0.16196356 0.01012272 0.01012272 0.02024545 0.01012272\n",
            " 0.01012272 0.01012272 0.01012272 0.01012272 0.01012272 0.02024545\n",
            " 0.01012272 0.10122723 0.02024545 0.01012272 0.02024545 0.02024545\n",
            " 0.01012272 0.01012272 0.01012272 0.01012272 0.01012272 0.01012272\n",
            " 0.01012272 0.01012272 0.01012272 0.02024545 0.02024545 0.01012272\n",
            " 0.01012272 0.01012272 0.01012272 0.02024545 0.02024545 0.01012272\n",
            " 0.01012272 0.01012272 0.01012272 0.01012272 0.01012272 0.04049089\n",
            " 0.01012272 0.03036817 0.01012272 0.02024545 0.02024545 0.01012272\n",
            " 0.01012272 0.02024545 0.01012272 0.01012272 0.02024545 0.04049089\n",
            " 0.01012272 0.01012272 0.01012272 0.01012272 0.02024545 0.01012272\n",
            " 0.01012272 0.01012272 0.02024545 0.01012272 0.01012272 0.29355896\n",
            " 0.01012272 0.02024545 0.01012272 0.01012272 0.02024545 0.07085906\n",
            " 0.01012272 0.01012272 0.01012272 0.03036817 0.02024545 0.01012272\n",
            " 0.02024545 0.01012272 0.02024545 0.01012272 0.02024545 0.04049089\n",
            " 0.01012272 0.01012272 0.01012272 0.03036817 0.01012272 0.01012272\n",
            " 0.01012272 0.01012272 0.01012272 0.01012272 0.01012272 0.01012272\n",
            " 0.02024545 0.01012272 0.01012272 0.02024545 0.01012272 0.01012272\n",
            " 0.02024545 0.02024545 0.01012272 0.02024545 0.01012272 0.01012272\n",
            " 0.02024545 0.01012272 0.01012272 0.01012272 0.01012272 0.01012272\n",
            " 0.01012272 0.01012272 0.01012272 0.01012272 0.01012272 0.04049089\n",
            " 0.01012272 0.01012272 0.02024545 0.01012272 0.01012272 0.04049089\n",
            " 0.01012272 0.07085906 0.02024545 0.01012272 0.02024545 0.01012272\n",
            " 0.01012272 0.01012272 0.01012272 0.01012272 0.01012272 0.02024545\n",
            " 0.01012272 0.03036817 0.01012272 0.01012272 0.01012272 0.05061361\n",
            " 0.01012272 0.04049089 0.01012272 0.01012272 0.01012272 0.01012272\n",
            " 0.02024545 0.01012272 0.01012272 0.05061361 0.0911045  0.01012272\n",
            " 0.01012272 0.01012272 0.02024545 0.01012272 0.01012272 0.01012272\n",
            " 0.02024545 0.01012272 0.02024545 0.01012272 0.08098178 0.05061361\n",
            " 0.01012272 0.01012272 0.01012272 0.01012272 0.01012272 0.04049089\n",
            " 0.17208629 0.01012272 0.5769952  0.01012272 0.01012272 0.06073634\n",
            " 0.02024545 0.04049089 0.01012272 0.03036817 0.01012272 0.01012272\n",
            " 0.06073634 0.01012272 0.26319079 0.01012272 0.01012272 0.01012272\n",
            " 0.01012272 0.01012272 0.01012272 0.01012272 0.01012272 0.01012272\n",
            " 0.05061361 0.01012272 0.01012272 0.01012272 0.01012272 0.01012272\n",
            " 0.01012272 0.01012272 0.03036817 0.01012272 0.1315954  0.02024545\n",
            " 0.0911045  0.01012272 0.05061361 0.01012272 0.01012272 0.02024545\n",
            " 0.01012272 0.02024545 0.01012272 0.02024545 0.02024545 0.04049089\n",
            " 0.01012272 0.02024545 0.04049089 0.02024545 0.05061361 0.01012272\n",
            " 0.04049089 0.01012272 0.01012272 0.01012272]\n"
          ]
        }
      ]
    },
    {
      "cell_type": "markdown",
      "source": [
        "word embedding calculate how it related to meaning\n",
        "e.g : queen and king\n",
        "e.g : flood and disaster"
      ],
      "metadata": {
        "id": "D3JPVyBstCen"
      }
    },
    {
      "cell_type": "code",
      "source": [
        "# Word embeddings (using spaCy)\n",
        "import spacy\n",
        "nlp = spacy.load('en_core_web_sm')\n",
        "doc = nlp(text)\n",
        "embeddings = [token.vector for token in doc]\n",
        "print('Word embeddings:')\n",
        "print(len(embeddings))"
      ],
      "metadata": {
        "colab": {
          "base_uri": "https://localhost:8080/"
        },
        "id": "i412BQ43GKJK",
        "outputId": "19870bef-1199-48f8-cb9a-fea1bbbc484d"
      },
      "execution_count": null,
      "outputs": [
        {
          "output_type": "stream",
          "name": "stdout",
          "text": [
            "Word embeddings:\n",
            "1199\n"
          ]
        }
      ]
    },
    {
      "cell_type": "markdown",
      "source": [
        "what is cosine similaity ?\n",
        "  the word counts can be represented as a vector\n",
        "  to find the similarities these two sets of words or documents\n",
        "\n",
        "with cosime similarity\n",
        " a= {flood, natural}\n",
        " b= {the, natural}\n",
        "\n"
      ],
      "metadata": {
        "id": "o2LAGEBtteHm"
      }
    },
    {
      "cell_type": "code",
      "source": [
        "# Compare similarities using cosine similarity\n",
        "from sklearn.metrics.pairwise import cosine_similarity\n",
        "\n",
        "# Similarity between \"flood\" and \"disaster\"\n",
        "word1 = \"flood\"\n",
        "word2 = \"disaster\"\n",
        "embedding_sim = cosine_similarity(embeddings[tokens.index(word1)].reshape(1, -1),\n",
        "                                   embeddings[tokens.index(word2)].reshape(1, -1))\n",
        "tfidf_sim = cosine_similarity(X_tfidf[:, tfidf_vec.vocabulary_[word1]].reshape(1, -1),\n",
        "                               X_tfidf[:, tfidf_vec.vocabulary_[word2]].reshape(1, -1))\n",
        "print(f'Similarity between \"{word1}\" and \"{word2}\" using word embeddings:', embedding_sim[0][0])\n",
        "print(f'Similarity between \"{word1}\" and \"{word2}\" using TF-IDF:', tfidf_sim[0][0])\n"
      ],
      "metadata": {
        "colab": {
          "base_uri": "https://localhost:8080/"
        },
        "id": "JhT2D8SBGvuW",
        "outputId": "85e04704-b391-4210-f922-9e3534732b4c"
      },
      "execution_count": null,
      "outputs": [
        {
          "output_type": "stream",
          "name": "stdout",
          "text": [
            "Similarity between \"flood\" and \"disaster\" using word embeddings: 0.47615007\n",
            "Similarity between \"flood\" and \"disaster\" using TF-IDF: 1.0\n"
          ]
        }
      ]
    },
    {
      "cell_type": "markdown",
      "source": [
        "The bag-of-words model is used to extract features from the text by disregarding the grammar and order of words by keeping their multiple occurrences. It is represented as a bag of its words and here the occurrence of each word is used as a feature for the training classifier.\n",
        "\n",
        "creating unique values for each words with the scoring part\n",
        "\n",
        "“it” = 1\n",
        "“was” = 1\n",
        "“the” = 1\n",
        "“best” = 1\n",
        "“of” = 1\n",
        "“times” = 1\n",
        "“worst” = 0\n",
        "“age” = 0\n",
        "“wisdom” = 0\n",
        "“foolishness” = 0\n",
        "\n",
        "example a= \"it was the worst of times\"\n",
        "        a=['1','1','1','1','1']"
      ],
      "metadata": {
        "id": "oeOwNueSurvg"
      }
    },
    {
      "cell_type": "code",
      "source": [
        "# Bag of words\n",
        "bag_of_words = {word: tokens.count(word) for word in set(tokens)}\n",
        "print('Bag of words:\\n')\n",
        "print(list(bag_of_words.items()))"
      ],
      "metadata": {
        "colab": {
          "base_uri": "https://localhost:8080/"
        },
        "id": "69jZsYzTG_EZ",
        "outputId": "a5b41fec-fbb7-420a-bf82-de432b1f05ce"
      },
      "execution_count": null,
      "outputs": [
        {
          "output_type": "stream",
          "name": "stdout",
          "text": [
            "Bag of words:\n",
            "\n",
            "\n",
            " [('warned', 1), ('unstable', 1), ('temperatures', 1), ('feeds', 1), ('land', 1), ('certainly', 1), ('warnings', 2), ('Jacob', 1), ('fast-melting', 1), ('Perhaps', 1), ('together', 1), ('National', 1), ('remains', 2), ('Miriam', 1), ('20', 1), ('warming', 1), ('disaster', 2), ('is', 4), ('down', 1), (',', 45), ('filling', 1), ('(', 6), ('also', 4), ('actions', 1), ('said', 4), ('other', 3), ('them', 1), ('its', 2), ('event', 1), ('time', 4), ('say', 7), ('already', 2), ('will', 2), ('local', 2), ('did', 5), ('leading', 1), ('have', 10), ('caused', 2), ('small', 1), ('for', 8), ('science', 1), ('involved', 2), ('against', 1), ('Shrestha', 1), ('Meanwhile', 1), ('risk-mitigating', 1), ('many', 1), ('agencies', 2), ('were', 2), ('number', 1), ('advanced', 1), ('``', 7), ('56', 1), ('from', 5), ('glaciology', 1), ('question', 1), ('expanded', 1), ('by', 3), ('several', 2), ('helping', 1), ('cloudbursts', 1), ('geological', 1), ('increase', 1), ('characterised', 1), ('since', 1), ('otherwise', 1), ('failures', 2), ('becoming', 1), ('set', 1), ('two', 1), ('September', 1), ('says', 2), ('fact', 1), ('shows', 1), ('means', 2), ('deadly', 1), ('China', 1), ('entails', 1), ('Teesta', 1), ('questions', 2), ('gates', 1), ('Commission', 1), ('installing', 1), ('maintained', 1), ('Several', 1), ('slopes', 1), ('mountains', 1), ('melting', 1), ('responded', 1), ('Authority', 1), ('explain', 1), ('hitting', 1), ('last', 2), ('Water', 2), ('-', 6), ('exceptionally', 1), ('no', 2), ('systems', 5), ('BBC', 3), ('Disaster', 1), ('director', 1), ('One', 1), ('work', 4), ('estimates', 1), ('alone', 1), ('issued', 1), ('out', 2), (\"''\", 7), ('too', 1), ('plans', 1), ('she', 1), ('warning', 12), ('new', 1), ('ICIMOD', 2), ('700', 1), ('defence', 1), ('becomes', 1), ('originating', 1), ('deploy', 1), ('old', 1), ('It', 1), ('Some', 3), ('specialist', 1), ('higher', 1), ('bursts', 1), ('fusing', 1), ('confirmed', 1), ('permafrost', 1), ('instability', 1), ('failure', 1), ('being', 2), ('system', 8), ('past', 2), ('warmer', 1), ('across', 2), ('orders', 1), ('studies', 1), ('may', 2), ('main', 1), ('week', 2), ('install', 3), ('geography', 1), ('melt', 1), ('causing', 2), ('Experts', 1), ('begin', 1), ('Switzerland', 1), ('lack', 1), ('resulted', 1), ('identified', 1), ('how', 2), ('of', 29), ('waters', 1), ('any', 2), ('three', 1), ('100', 1), ('dams', 2), ('very', 1), ('on', 2), ('non-military', 1), ('even', 1), ('Central', 1), ('lake', 13), ('Centre', 2), (\"n't\", 3), ('use', 1), ('mapping', 1), ('downstream', 3), ('decades', 1), ('provide', 1), ('slowed', 1), ('drew', 1), ('later', 1), (\"'s\", 9), ('open', 2), ('Its', 1), ('including', 4), ('An', 1), ('outbursts', 2), ('Such', 1), ('loose', 1), ('seen', 1), ('autonomous', 1), ('about', 1), ('or', 7), ('just', 2), ('They', 1), ('can', 4), ('needs', 1), ('triggered', 1), ('resulting', 1), ('flooding', 1), ('Resources', 1), ('attribute', 1), ('who', 2), ('floodgates', 1), ('north-east', 1), ('getting', 1), ('Ministry', 1), ('linked', 1), ('increasingly', 1), ('70', 1), ('None', 1), ('changes', 1), ('thawing', 1), ('died', 1), ('to', 26), ('this', 3), ('monitored', 1), ('NGO', 1), ('campaigners', 1), ('make', 1), ('soil', 1), ('had', 5), ('not', 2), ('NDMA', 4), ('late', 1), ('200', 1), ('fed', 1), ('meant', 1), ('then', 1), ('constant', 1), ('specialising', 1), ('where', 2), ('want', 1), ('initiated', 1), ('setting', 2), ('much', 1), ('national', 1), ('India', 4), ('There', 1), ('are', 10), ('region', 2), ('University', 1), ('dam', 2), ('times', 1), ('these', 1), ('These', 1), ('he', 1), ('earthquake', 1), ('with', 5), ('around', 2), ('either', 1), ('functioning', 1), ('taking', 1), ('missing', 1), ('soldiers', 1), ('At', 1), ('at-risk', 2), ('been', 4), ('details', 1), ('bureaucracy', 1), ('thinning', 1), ('Warming', 1), ('warming-induced', 1), ('glacial', 11), ('state', 2), ('others', 2), ('international', 1), ('sensitivities', 1), ('looking', 1), ('campaigner', 1), ('in', 23), ('Lhonak', 10), ('snowed', 1), ('while', 1), ('be', 4), ('embassy', 1), ('rain', 1), ('moved', 2), ('especially', 1), ('learnt', 1), ('monitoring', 4), ('cloudburst', 1), ('cause', 1), ('Chungthang', 1), ('.', 42), ('frozen', 1), ('Mountain', 2), ('What', 1), ('running', 1), ('student', 1), ('fast', 2), ('abruptly', 1), ('Tibet', 1), ('department', 1), ('dangerous', 6), ('Sikkim', 5), ('help', 1), ('words', 1), ('do', 2), ('why', 4), ('flash', 1), ('bursting', 1), ('concentrated', 1), ('permanently', 1), ('nine', 1), ('sensitive', 1), ('climate', 1), ('revealed', 1), ('cryosphere', 1), ('International', 2), ('overflowing', 1), ('Himalayan', 2), ('alerts', 2), ('point', 1), ('as', 3), ('unclear', 1), ('avalanches', 3), ('burst', 2), ('Rajak', 1), ('rapidly', 2), ('earthquakes', 1), ('authorities', 2), ('place', 3), ('rockfalls', 2), ('Himalayas', 5), ('risk', 1), ('protesting', 1), ('But', 6), ('problem', 1), ('We', 1), ('collapses', 1), ('military', 1), ('lakes', 16), ('researcher', 1), ('mostly', 2), ('2016', 1), ('borders', 1), ('an', 7), ('settlements', 1), ('equipment', 1), ('a', 15), ('such', 1), ('urgently', 1), ('increased', 1), ('communities', 1), ('And', 1), ('altitudes', 1), ('prevent', 1), ('led', 2), ('that', 17), ('order', 1), ('there', 5), ('become', 1), ('glacier', 2), ('which', 4), ('only', 1), ('require', 1), ('evacuate', 1), ('flood', 9), ('Steiner', 1), ('told', 1), ('retreating', 1), ('People', 1), ('long', 2), ('like', 2), ('the', 53), ('Dhiren', 1), ('issuing', 1), ('outburst', 1), ('satellite', 1), ('Scientists', 2), ('more', 3), ('early-warning', 1), ('all', 4), ('2.5', 1), ('surveyed', 2), ('hazards', 1), ('edge', 1), ('In', 2), ('mountainous', 1), ('evidence', 1), ('Delhi', 1), ('key', 1), ('senior', 1), ('named', 1), ('rising', 1), ('[', 1), ('faster', 2), ('started', 1), ('sudden', 1), ('could', 2), ('Integrated', 2), ('buildings', 1), ('Management', 1), ('boulders', 1), ('moraines', 1), ('than', 4), ('federal', 1), ('least', 1), ('images', 1), ('large', 1), ('glaciologists', 1), ('worldwide', 1), ('checking', 2), (')', 6), ('construction', 1), ('high', 1), ('most', 1), ('After', 1), ('factors', 2), ('reply', 1), ('has', 10), (']', 1), ('now', 1), ('rivers', 1), ('Traditionally', 1), ('via', 1), ('received', 1), ('at', 10), ('years', 1), ('early', 13), ('they', 3), ('slope', 4), ('collapsed', 1), ('added', 1), ('and', 22), ('made', 1), ('area', 1), ('due', 2), ('levels', 1), ('glaciers', 3), ('it', 9), ('media', 1), ('possibility', 1), ('damage', 1), ('A', 1), ('real-time', 2), ('happening', 1), ('rains', 2), ('heavy', 2), ('infrastructure', 1), ('experts', 2), ('The', 4), ('take', 1), ('lead', 1), ('when', 2), ('view', 1), ('banks', 1), ('formed', 1), ('release', 1), ('minimise', 1), ('river', 1), ('up', 5), ('Rajeev', 1), ('because', 2), ('if', 2), ('Development', 2), ('rainfall', 1), ('weeks', 1), ('people', 3), ('was', 10), ('after', 2), ('global', 2), ('rocks', 1), ('South', 9), ('known', 1), ('Jackson', 1), ('water', 3), ('so', 2), ('regions', 1), ('some', 2), ('technology', 1), ('working', 1)]\n"
          ]
        }
      ]
    },
    {
      "cell_type": "markdown",
      "source": [
        "two gram is a two word combinations that occurs in the text\n",
        "example \"i am\"\n",
        "three gram phrase\n",
        "example \"this is killing\"\n",
        "\n",
        "Where can it be used ? sentence predicition of a text\n",
        "eg autocomplete text in search engines\n"
      ],
      "metadata": {
        "id": "oFAE8hKixGi9"
      }
    },
    {
      "cell_type": "code",
      "source": [
        "# Bag of n-grams\n",
        "n = 2\n",
        "ngrams = [tuple(tokens[i:i+n]) for i in range(len(tokens)-n+1)]\n",
        "bag_of_ngrams = {ngram: ngrams.count(ngram) for ngram in set(ngrams)}\n",
        "print('Bag of n-grams:')\n",
        "print(list(bag_of_ngrams.items()))"
      ],
      "metadata": {
        "colab": {
          "base_uri": "https://localhost:8080/"
        },
        "id": "KmWLqlzEHBV7",
        "outputId": "580a0f17-a433-4521-a7de-75bb0249f362"
      },
      "execution_count": null,
      "outputs": [
        {
          "output_type": "stream",
          "name": "stdout",
          "text": [
            "Bag of n-grams:\n",
            "[(('been', 'issued'), 1), (('fast-melting', 'glaciers'), 1), (('dangerous', '.'), 2), (('so', 'long'), 1), (('work', 'was'), 1), (('up', 'to'), 1), (('hazards', ','), 1), (('system', 'was'), 1), ((',', 'and'), 2), (('is', 'so'), 1), (('by', 'heavy'), 1), (('also', 'means'), 1), (('Scientists', 'are'), 1), (('dams', 'downstream'), 1), (('north-east', 'state'), 1), (('was', 'a'), 1), (('three', 'decades'), 1), (('military', 'sensitivities'), 1), (('the', 'edge'), 1), (('moved', 'exceptionally'), 1), (('the', 'system'), 1), ((',', 'a'), 4), (('people', '-'), 1), (('thawing', 'of'), 1), (('that', 'there'), 1), (('started', 'hitting'), 1), (('20', 'are'), 1), (('that', 'make'), 1), (('and', 'experts'), 1), (('permanently', 'frozen'), 1), (('resulting', 'in'), 1), (('while', 'others'), 1), (('triggered', 'by'), 1), (('on', 'mountains'), 1), (('had', 'been'), 1), (('around', 'all'), 1), (('checking', 'how'), 1), (('Sikkim', 'shows'), 1), (('of', 'several'), 1), (('water', 'to'), 1), (('Jackson', ','), 1), ((')', ','), 1), (('campaigners', 'who'), 1), (('at', 'risk'), 1), (('glaciologists', 'say'), 1), (('said', 'that'), 1), (('Sikkim', \"'s\"), 1), (('than', 'it'), 1), (('soldiers', '-'), 1), (('from', 'overflowing'), 1), (('the', 'disaster'), 1), (('orders', 'to'), 1), (('responded', 'to'), 1), (('that', 'rising'), 1), (('September', 'it'), 1), (('senior', 'cryosphere'), 1), (('work', '['), 1), (('and', 'this'), 2), (('system', 'and'), 1), (('evacuate', 'people'), 1), (('lake', '.'), 1), (('place', 'for'), 1), (('for', 'monitoring'), 1), (('surveyed', 'was'), 1), (('at', 'Sikkim'), 1), (('slope', 'collapses'), 1), (('Meanwhile', ','), 1), (('has', 'led'), 1), (('than', '2.5'), 1), (('.', 'Meanwhile'), 1), (('buildings', 'downstream'), 1), (('levels', 'of'), 1), (('why', 'the'), 2), (('lake', 'was'), 1), (('bureaucracy', 'and'), 1), (('disaster', 'to'), 1), (('warned', 'that'), 1), (('to', 'do'), 2), (('or', 'other'), 1), (('warnings', 'had'), 1), (('for', 'real-time'), 2), ((',', 'told'), 1), (('risk', 'of'), 1), (('says', 'it'), 1), (('open', 'the'), 2), (('edge', 'of'), 1), (('can', 'then'), 1), (('India', \"''\"), 1), (('-', 'flood'), 1), (('Lhonak', '.'), 2), (('made', 'people'), 1), (('science', 'and'), 1), (('it', '.'), 1), (('for', 'Integrated'), 2), (('.', 'An'), 1), (('down', 'the'), 1), (('main', 'problem'), 1), (('was', 'taking'), 1), (('Rajeev', 'Rajak'), 1), (('to', 'prevent'), 1), (('rapidly', 'melting'), 1), (('is', 'causing'), 1), (('all', 'that'), 1), (('them', 'have'), 1), (('did', 'last'), 1), (('leading', 'to'), 1), (('set', 'up'), 1), (('the', 'water'), 1), (('.', 'It'), 1), (('a', 'dangerous'), 1), (('and', 'avalanches'), 1), (('order', 'to'), 1), (('also', 'the'), 1), (('Traditionally', ','), 1), (('ICIMOD', '.'), 1), ((\"n't\", 'have'), 1), (('have', 'become'), 1), (('monitoring', 'and'), 2), (('regions', 'worldwide'), 1), (('temperatures', ','), 1), (('``', 'Perhaps'), 1), (('systems', ','), 1), (('and', 'was'), 1), (('lakes', 'mapping'), 1), (('the', 'Chungthang'), 1), (('Sikkim', 'alone'), 1), ((\"''\", 'Rajeev'), 1), (('for', 'early'), 1), (('the', 'infrastructure'), 1), (('rainfall', '.'), 1), (('several', 'national'), 1), (('make', 'glacial'), 1), (('a', 'glaciology'), 1), (('had', 'expanded'), 1), (('permafrost', '('), 1), (('alone', 'has'), 1), ((',', 'resulting'), 1), (('they', 'received'), 1), (('in', 'a'), 1), (('Rajak', ','), 1), (('with', 'ICIMOD'), 1), (('People', 'working'), 1), (('sensitive', 'from'), 1), ((')', 'that'), 1), (('most', 'of'), 1), (('flood', 'gates'), 1), (('question', 'why'), 1), (('including', 'the'), 2), (('Such', 'outbursts'), 1), (('burst', 'at'), 1), (('looking', 'at'), 1), (('exceptionally', '('), 1), (('dangerous', 'state'), 1), (('area', 'had'), 1), (('images', ')'), 1), (('factors', 'that'), 1), (('long', '.'), 1), (('or', 'Ministry'), 1), (('Chungthang', 'dam'), 1), (('to', 'rain'), 1), (('Lhonak', 'remains'), 1), (('at', 'slope'), 1), (('mostly', 'seen'), 1), (('install', 'advanced'), 1), (('all', 'slopes'), 1), (('lakes', 'have'), 1), (('Its', 'embassy'), 1), (('time', 'and'), 1), (('floodgates', 'it'), 1), (('to', 'new'), 1), (('have', 'resulted'), 1), (('large', 'glacial'), 1), (('and', 'open'), 1), (('bursts', '-'), 1), ((',', 'experts'), 1), (('of', 'an'), 1), (('of', 'the'), 7), (('of', 'glacial'), 1), (('after', 'South'), 1), (('Development', ','), 1), (('this', 'may'), 1), (('out', 'of'), 1), (('lake', 'did'), 1), (('system', 'has'), 1), (('(', 'via'), 1), (('an', 'earthquake'), 1), (('a', 'slope'), 1), (('are', 'at'), 1), (('gates', 'from'), 1), ((\"'s\", 'questions'), 1), (('was', 'being'), 1), (('.', 'Dhiren'), 1), (('equipment', 'for'), 1), (('outbursts', '.'), 1), (('But', 'he'), 1), (('global', 'warming'), 1), (('Shrestha', ','), 1), (('becomes', 'unstable'), 1), (('.', 'But'), 5), (('work', 'will'), 1), (('lake', 'fed'), 1), (('characterised', 'by'), 1), (('week', '.'), 2), (('a', 'cloudburst'), 1), (('Experts', 'say'), 1), (('setting', 'up'), 2), (('warning', 'systems'), 5), (('say', 'that'), 1), (('there', 'are'), 1), (('point', 'of'), 1), (('flood', 'in'), 1), (('concentrated', 'rainfall'), 1), (('(', 'fast'), 1), (('early', 'warnings'), 1), (('lakes', ','), 2), (('cloudbursts', 'or'), 1), (('student', 'at'), 1), (('Steiner', ','), 1), (('70', 'people'), 1), ((',', 'leading'), 1), (('and', 'technology'), 1), (('Himalayas', ','), 1), (('are', 'in'), 1), (('estimates', 'that'), 1), (('Scientists', 'say'), 1), (('and', 'retreating'), 1), (('climate', 'becoming'), 1), (('Some', 'have'), 1), (('of', 'time'), 1), (('waters', 'had'), 1), (('if', 'there'), 1), (('protesting', 'against'), 1), (('years', ','), 1), (('surveyed', 'two'), 1), (('loose', 'boulders'), 1), (('local', 'media'), 1), (('late', '-'), 1), (('.', 'Its'), 1), (('key', 'buildings'), 1), (('.', 'Several'), 1), (('evidence', 'that'), 1), (('National', 'Disaster'), 1), (('be', 'named'), 1), (('provide', 'the'), 1), (('flood', 'due'), 1), (('be', 'of'), 1), (('may', 'have'), 2), (('At', 'least'), 1), ((']', ','), 1), (('lake', 'has'), 1), (('lake', \"'s\"), 2), (('specialising', 'in'), 1), (('in', 'Himalayan'), 1), (('rising', 'temperatures'), 1), (('a', 'defence'), 1), (('said', '.'), 3), (('100', 'others'), 1), (('event', 'of'), 1), (('due', 'to'), 2), (('Teesta', 'river'), 1), (('flood', '.'), 2), (('system', 'in'), 2), (('the', 'outburst'), 1), (('up', '.'), 1), (('to', 'these'), 1), (('the', 'work'), 1), (('require', 'constant'), 1), (('``', 'There'), 1), (('water', 'levels'), 1), (('for', 'its'), 1), (('told', 'local'), 1), (('monitoring', 'will'), 1), (('other', 'factors'), 1), (('of', 'factors'), 1), (('None', 'of'), 1), (('was', 'no'), 2), ((\"'s\", 'National'), 1), (('that', 'Lhonak'), 1), ((\"'s\", 'other'), 1), (('he', 'did'), 1), ((\"''\", 'Miriam'), 1), (('Himalayas', 'said'), 1), (('with', 'bureaucracy'), 1), (('flash', 'flood'), 1), (('install', 'early'), 1), (('around', '20'), 1), (('in', 'early'), 1), (('has', 'learnt'), 1), (('led', 'to'), 2), (('that', 'caused'), 1), (('say', 'it'), 1), (('NDMA', 'install'), 1), (('some', 'of'), 1), (('instability', 'in'), 1), (('just', 'weeks'), 1), (('slope', 'that'), 1), (('.', 'After'), 1), (('resulted', 'from'), 1), (('an', 'increase'), 1), (('to', 'rains'), 1), (('and', 'more'), 1), (('drew', 'out'), 1), (('any', 'time'), 1), (('.', 'Experts'), 1), (('of', 'India'), 1), (('why', 'there'), 1), (('system', '.'), 1), (('to', 'flood'), 3), (('collapses', 'abruptly'), 1), ((',', 'where'), 1), (('``', 'Scientists'), 1), (('and', 'key'), 1), (('Sikkim', 'University'), 1), (('NDMA', 'says'), 1), (('media', 'that'), 1), (('melt', 'faster'), 1), (('issuing', 'early'), 1), (('lake', 'in'), 1), (('dangerous', 'have'), 1), ((',', 'they'), 1), (('as', 'the'), 1), (('But', 'thinning'), 1), (('have', 'died'), 1), (('at-risk', 'glacial'), 1), (('(', 'ICIMOD'), 1), (('and', 'how'), 1), (('problem', '.'), 1), (('initiated', ','), 1), (('constant', 'monitoring'), 1), (('these', 'questions'), 1), (('been', 'known'), 1), (('warning', 'system'), 6), (('remains', 'unclear'), 1), (('global', 'warming-induced'), 1), (('in', 'order'), 1), (('lack', 'of'), 1), (('advanced', 'early'), 1), (('missing', 'after'), 1), (('is', 'downstream'), 1), (('rocks', 'and'), 1), ((\"''\", 'she'), 1), (('thinning', 'and'), 1), (('could', 'burst'), 1), (('(', 'NDMA'), 1), (('weeks', 'later'), 1), (('caused', 'the'), 2), (('it', 'from'), 1), ((',', 'estimates'), 1), (('the', 'failure'), 1), (('just', 'like'), 1), (('banks', 'last'), 1), (('there', 'was'), 3), (('number', 'of'), 1), (('functioning', 'early'), 1), (('be', 'dangerous'), 1), (('its', 'banks'), 1), (('up', 'of'), 1), (('happening', 'very'), 1), (('Lhonak', 'lake'), 2), (('They', 'attribute'), 1), (('it', 'mostly'), 1), (('.', 'Warming'), 1), (('a', 'rapidly'), 1), (('700', 'small'), 1), (('have', 'also'), 1), (('the', 'moraines'), 1), (('glacier', '-'), 1), (('local', 'communities'), 1), (('across', 'all'), 1), (('urgently', 'needs'), 1), (('certainly', 'entails'), 1), (('are', 'causing'), 1), (('flood', 'moved'), 1), (('new', 'lakes'), 1), (('lakes', 'dangerous'), 1), ((',', 'cloudbursts'), 1), (('abruptly', 'due'), 1), (('via', 'satellite'), 1), (('at-risk', 'lakes'), 1), (('expanded', 'more'), 1), (('borders', 'China'), 1), (('are', 'running'), 1), (('Himalayas', 'are'), 1), (('have', 'even'), 1), (('involved', 'in'), 1), (('want', 'to'), 1), (('failures', '('), 2), (('people', 'question'), 1), (('lakes', 'fusing'), 1), (('linked', 'it'), 1), (('be', 'triggered'), 1), (('no', 'such'), 1), (('non-military', 'work'), 1), (('dam', ','), 1), (('the', 'Himalayas'), 5), (('avalanches', '.'), 3), (('the', 'north-east'), 1), (('not', 'provide'), 1), (('``', 'The'), 1), (('say', '.'), 1), (('warmer', '.'), 1), (('questions', 'either'), 1), (('.', 'These'), 1), (('monitored', 'and'), 1), (('mountainous', 'regions'), 1), (('that', 'borders'), 1), (('helping', 'the'), 1), (('release', 'of'), 1), (('.', 'In'), 2), (('at', 'most'), 1), ((',', 'the'), 3), (('decades', 'because'), 1), ((',', 'an'), 1), (('up', 'the'), 1), (('``', 'We'), 1), (('up', 'glacial'), 1), (('past', ','), 1), (('help', 'authorities'), 1), (('attribute', 'the'), 1), (('when', 'a'), 1), (('has', 'made'), 1), (('Switzerland', 'has'), 1), (('After', 'the'), 1), (('Integrated', 'Mountain'), 2), (('56', 'at-risk'), 1), ((',', 'characterised'), 1), (('there', 'is'), 1), ((',', 'installing'), 1), (('the', 'local'), 1), (('downstream', 'after'), 1), (('that', 'South'), 1), (('remains', 'permanently'), 1), ((',', 'who'), 1), (('lakes', 'surveyed'), 1), (('to', 'slope'), 1), (('glaciers', 'rapidly'), 1), (('how', 'many'), 1), (('ICIMOD', ')'), 1), (('the', 'fact'), 1), (('glaciology', 'student'), 1), (('of', 'a'), 2), (('long', 'been'), 1), (('hitting', 'the'), 1), ((',', 'director'), 1), (('-', 'or'), 1), (('being', 'monitored'), 1), (('filling', 'up'), 1), (('formed', 'or'), 1), (('Lhonak', ','), 2), (('real-time', 'alerts'), 2), (('which', 'means'), 1), (('and', 'also'), 1), ((\"''\", 'says'), 1), (('lakes', 'being'), 1), (('increased', 'with'), 1), (('to', 'deploy'), 1), (('take', 'time'), 1), (('the', 'number'), 1), ((',', 'including'), 2), (('deadly', 'flash'), 1), (('2.5', 'times'), 1), (('others', 'are'), 1), (('so', 'much'), 1), ((\"''\", '.'), 1), (('Ministry', 'of'), 1), (('But', 'all'), 1), (('cloudburst', ','), 1), (('was', 'identified'), 1), (('much', 'to'), 1), (('becoming', 'warmer'), 1), (('construction', 'of'), 1), (('no', 'functioning'), 1), (('died', ','), 1), (('have', 'moved'), 1), (('was', 'at'), 1), (('or', 'old'), 1), (('monitoring', 'of'), 1), (('the', 'sudden'), 1), (('because', 'of'), 2), (('like', 'South'), 2), (('communities', 'involved'), 1), ((',', 'burst'), 1), (('needs', 'to'), 1), (('lake', 'flooding'), 1), (('the', 'South'), 1), (('The', 'International'), 1), (('of', 'them'), 1), (('including', 'monitoring'), 1), (('have', 'slowed'), 1), (('slowed', 'down'), 1), (('mapping', 'all'), 1), (('times', 'in'), 1), (('the', 'past'), 2), (('.', 'They'), 1), (('who', 'have'), 1), (('also', 'led'), 1), (('China', \"'s\"), 1), (('``', 'And'), 1), ((\"'s\", 'evidence'), 1), (('.', \"''\"), 1), (('.', 'Traditionally'), 1), (('already', ','), 1), (('rockfalls', ','), 1), (('this', 'work'), 1), (('not', 'reply'), 1), (('to', 'settlements'), 1), (('have', 'an'), 1), (('in', 'South'), 1), (('more', 'than'), 3), (('moved', 'faster'), 1), ((\"''\", 'But'), 1), (('moraines', ','), 1), (('after', 'the'), 1), (('or', 'explain'), 1), (('agencies', ','), 1), (('the', 'main'), 1), (('of', 'use'), 1), (('glacier', 'that'), 1), (('can', 'lead'), 1), (('the', 'place'), 1), (('very', 'fast'), 1), (('the', 'climate'), 1), (('researcher', 'with'), 1), (('from', 'a'), 3), ((',', 'rocks'), 1), (('.', 'Scientists'), 1), (('increase', 'in'), 1), (('warning', 'are'), 1), (('Sikkim', 'disaster'), 1), (('of', 'Sikkim'), 2), (('she', 'added'), 1), (('the', 'International'), 1), (('unstable', ','), 1), (('are', 'early'), 1), (('and', 'collapsed'), 1), (('overflowing', '.'), 1), ((',', 'earthquakes'), 1), (('the', 'equipment'), 1), (('mountains', ')'), 1), (('explain', 'why'), 1), (('slope', 'failures'), 2), (('glacial', 'lake'), 4), ((',', 'India'), 1), (('water', 'from'), 1), (('from', 'dams'), 1), (('to', 'open'), 1), (('fusing', 'together'), 1), (('We', 'are'), 1), (('geological', 'instability'), 1), (('then', 'cause'), 1), (('seen', 'as'), 1), (('do', 'with'), 1), (('of', 'lakes'), 1), ((\"n't\", 'want'), 1), (('getting', 'the'), 1), (('actions', '.'), 1), (('downstream', 'to'), 1), (('has', 'to'), 1), (('which', 'otherwise'), 1), (('.', 'One'), 1), (('region', 'of'), 1), (('did', \"n't\"), 2), (('that', 'in'), 1), (('Water', 'Resources'), 1), (('early', 'September'), 1), (('or', 'avalanches'), 2), (('system', 'can'), 1), (('flood', 'waters'), 1), (('rivers', 'originating'), 1), (('rockfalls', 'and'), 1), (('.', 'Some'), 3), (('are', 'involved'), 1), (('lakes', 'to'), 1), (('it', 'had'), 1), (('to', 'minimise'), 1), (('lakes', 'and'), 2), (('details', 'or'), 1), (('The', 'lake'), 2), (('of', 'bursting'), 1), (('the', 'geography'), 1), (('reply', 'to'), 1), (('worldwide', ','), 1), (('unclear', '.'), 1), (('of', 'Water'), 1), (('International', 'Centre'), 2), (('autonomous', 'region'), 1), (('nine', 'soldiers'), 1), (('Himalayas', 'and'), 1), (('fact', 'that'), 1), (('and', 'risk-mitigating'), 1), (('Tibet', ','), 1), (('now', 'looking'), 1), (('warnings', 'were'), 1), ((',', 'confirmed'), 1), ((',', 'while'), 1), (('defence', 'point'), 1), (('slopes', 'around'), 1), (('they', 'could'), 2), (('of', 'Tibet'), 1), (('Mountain', 'Development'), 2), (('rapidly', 'filling'), 1), (('infrastructure', '.'), 1), (('flood', ','), 1), (('could', 'flood'), 1), (('Water', 'Commission'), 1), (('increasingly', 'meant'), 1), (('Commission', 'or'), 1), (('outburst', 'at'), 1), (('flood', 'just'), 1), (('Centre', 'for'), 2), (('warming-induced', 'changes'), 1), (('people', 'in'), 1), (('[', 'setting'), 1), (('that', 'several'), 1), (('Authority', '('), 1), (('heavy', 'concentrated'), 1), (('alerts', 'at'), 1), (('the', 'lake'), 4), (('In', '2016'), 1), (('in', 'this'), 1), (('changes', 'are'), 1), (('plans', '``'), 1), (('view', 'and'), 1), (('had', 'surveyed'), 1), (('have', 'been'), 1), (('boulders', ','), 1), (('to', 'be'), 2), (('the', 'Central'), 1), (('are', 'now'), 1), (('early', 'warning'), 11), (('cause', 'glacial'), 1), (('it', 'may'), 1), (('rains', 'at'), 1), (('means', 'any'), 1), (('a', 'senior'), 1), (('entails', 'military'), 1), (('to', 'melt'), 1), (('at', 'South'), 2), (('will', 'take'), 1), (('which', 'can'), 1), ((')', '.'), 1), (('NDMA', ')'), 1), (('One', 'of'), 1), (('``', 'to'), 1), (('a', 'high'), 1), (('dams', 'on'), 1), (('are', 'maintained'), 1), (('words', ','), 1), (('will', 'only'), 1), (('glaciers', 'to'), 1), (('other', 'federal'), 1), (('collapsed', 'because'), 1), (('causing', 'geological'), 1), (('state', '.'), 1), (('mostly', 'snowed'), 1), (('was', 'too'), 1), (('experts', 'say'), 2), (('alerts', 'in'), 1), (('Some', 'say'), 1), (('either', '.'), 1), (('fast', 'in'), 1), ((',', 'said'), 3), (('together', '.'), 1), (('(', 'a'), 1), (('out', 'some'), 1), (('.', 'Sikkim'), 1), (('can', 'be'), 1), (('A', 'deadly'), 1), (('become', 'dangerous'), 1), (('authorities', 'evacuate'), 1), (('were', 'initiated'), 1), (('at', 'the'), 2), (('of', 'view'), 1), (('has', 'more'), 1), (('are', 'happening'), 1), (('factors', ')'), 1), ((',', 'which'), 1), (('meant', 'that'), 1), (('disaster', ','), 1), (('agencies', 'are'), 1), (('-', 'like'), 1), (('NDMA', ','), 1), (('has', 'plans'), 1), (('originating', 'in'), 1), (('These', 'lakes'), 1), (('systems', 'in'), 1), (('in', 'Delhi'), 1), (('Himalayan', 'hazards'), 1), (('running', 'out'), 1), (('others', 'say'), 1), (('been', 'helping'), 1), (('checking', 'if'), 1), (('as', 'dangerous'), 1), (('and', 'international'), 1), (('cryosphere', 'specialist'), 1), (('fed', 'by'), 1), ((')', 'across'), 1), (('than', '100'), 1), (('a', 'glacial'), 2), (('Dhiren', 'Shrestha'), 1), (('an', 'early-warning'), 1), (('earthquakes', 'or'), 1), (('says', 'Jacob'), 1), (('other', 'words'), 1), (('frozen', 'on'), 1), (('river', 'and'), 1), (('begin', 'to'), 1), (('was', 'sensitive'), 1), (('lake', 'bursts'), 1), (('The', 'NDMA'), 1), (('Some', 'campaigners'), 1), ((\"'s\", 'science'), 1), (('for', 'when'), 1), (('Central', 'Water'), 1), (('a', 'glacier'), 1), (('when', 'they'), 1), (('across', 'the'), 1), (('Himalayan', 'lakes'), 1), (('South', 'Lhonak'), 9), (('to', '200'), 1), (('flooding', '.'), 1), (('place', 'becomes'), 1), (('snowed', 'in'), 1), (('heavy', 'rains'), 1), (('fast', ')'), 1), (('or', 'the'), 1), (('dangerous', 'as'), 1), (('the', 'dam'), 1), (('received', 'orders'), 1), (('many', 'of'), 1), (('of', 'water'), 1), (('failure', 'of'), 1), (('faster', 'than'), 1), (('do', 'including'), 1), (('small', 'and'), 1), ((\"n't\", 'set'), 1), (('some', 'work'), 1), (('any', 'non-military'), 1), (('to', 'install'), 2), (('old', 'lakes'), 1), (('has', 'in'), 1), (('means', 'thawing'), 1), (('Delhi', 'did'), 1), (('higher', 'altitudes'), 1), ((\"'s\", 'area'), 1), (('authorities', 'drew'), 1), (('the', 'lack'), 1), (('director', 'of'), 1), (('University', ','), 1), (('Warming', 'also'), 1), (('confirmed', 'that'), 1), (('that', 'the'), 2), (('the', 'NDMA'), 2), (('geography', 'of'), 1), (('of', 'dams'), 1), (('Lhonak', 'was'), 1), (('place', 'already'), 1), (('Several', 'studies'), 1), (('Resources', 'responded'), 1), (('state', 'of'), 1), (('it', 'was'), 1), ((')', 'which'), 1), (('India', 'urgently'), 1), ((',', 'especially'), 1), (('time', ','), 3), (('two', 'at-risk'), 1), (('at', 'any'), 1), (('lakes', 'in'), 2), (('-', 'including'), 1), (('land', 'which'), 1), (('by', 'a'), 1), (('rains', ','), 1), (('later', 'has'), 1), (('has', 'been'), 1), (('melting', 'glacier'), 1), (('had', 'warned'), 1), (('how', 'warnings'), 1), (('say', 'around'), 1), (('this', 'has'), 1), (('lake', 'begin'), 1), (('.', '``'), 6), (('work', 'for'), 1), (('was', \"n't\"), 1), (('the', 'region'), 1), (('.', 'What'), 1), (('that', 'when'), 1), (('Disaster', 'Management'), 1), (('earthquake', '.'), 1), (('settlements', 'and'), 1), (('system', ']'), 1), (('say', 'there'), 1), (('the', 'BBC'), 3), (('Management', 'Authority'), 1), (('that', 'certainly'), 1), (('glacial', 'lakes'), 7), (('learnt', '.'), 1), (('NGO', 'specialising'), 1), (('BBC', 'has'), 1), (('BBC', \"'s\"), 1), (('lake', 'is'), 1), (('.', 'People'), 1), (('early-warning', 'system'), 1), (('in', 'rockfalls'), 1), (('sudden', 'release'), 1), (('since', 'the'), 1), (('of', 'South'), 1), (('an', 'early'), 3), (('in', 'mountainous'), 1), (('otherwise', 'remains'), 1), (('But', 'an'), 1), (('But', 'the'), 1), (('Lhonak', 'to'), 1), (('a', 'lake'), 1), (('it', 'to'), 1), (('questions', 'about'), 1), (('Jacob', 'Steiner'), 1), (('international', 'agencies'), 1), (('feeds', 'it'), 1), (('working', 'at'), 1), (('the', 'glacial'), 1), ((\"'s\", 'water'), 1), (('warming', 'is'), 1), (('outbursts', '-'), 1), (('several', 'Himalayan'), 1), (('lakes', '.'), 1), (('being', 'formed'), 1), (('.', 'At'), 1), ((\"'s\", 'floodgates'), 1), (('(', 'land'), 1), (('dangerous', 'glacial'), 1), (('2016', ','), 1), (('and', 'soil'), 1), (('which', 'is'), 1), (('known', 'to'), 1), (('use', 'if'), 1), (('soil', 'at'), 1), (('has', 'also'), 1), (('were', 'mostly'), 1), (('-', 'can'), 1), (('altitudes', 'where'), 1), (('possibility', 'of'), 1), (('already', 'started'), 1), (('a', 'campaigner'), 1), (('where', 'it'), 1), (('has', 'long'), 1), ((')', 'revealed'), 1), (('the', 'flood'), 3), (('.', 'None'), 1), (('install', 'an'), 1), (('Himalayas', '.'), 1), (('all', 'lakes'), 2), (('the', 'event'), 1), (('in', 'the'), 9), (('deploy', 'early'), 1), (('and', 'issuing'), 1), (('lakes', 'were'), 1), (('in', 'place'), 2), (('prevent', 'it'), 1), (('campaigner', ','), 1), (('including', 'nine'), 1), (('that', 'up'), 1), (('a', 'warning'), 1), (('of', 'permafrost'), 1), (('involved', 'and'), 1), (('why', 'India'), 1), (('that', 'can'), 1), (('in', 'years'), 1), (('Development', '('), 1), (('an', 'NGO'), 1), (('lakes', 'across'), 1), (('its', 'dangerous'), 1), (('minimise', 'damage'), 1), (('There', \"'s\"), 1), (('that', 'feeds'), 1), (('the', 'Sikkim'), 1), (('have', 'increased'), 1), (('Lhonak', 'did'), 1), ((',', 'authorities'), 1), (('and', 'that'), 1), (('installing', 'early'), 1), (('rain', 'or'), 1), (('.', 'Such'), 1), (('federal', 'agencies'), 1), (('about', 'why'), 1), (('department', ','), 1), ((\"'s\", 'autonomous'), 1), (('with', 'the'), 2), (('a', 'researcher'), 1), (('identified', 'as'), 1), (('only', 'be'), 1), (('that', 'monitoring'), 1), (('such', 'heavy'), 1), (('and', 'large'), 1), (('the', 'lakes'), 1), (('shows', 'why'), 1), (('as', 'they'), 1), (('lake', 'outbursts'), 1), (('-', 'have'), 1), (('did', 'not'), 2), (('dam', \"'s\"), 1), (('with', 'details'), 1), (('can', 'help'), 1), (('than', '700'), 1), ((\"''\", 'a'), 1), (('least', '70'), 1), ((',', 'are'), 1), (('India', \"'s\"), 2), (('where', 'some'), 1), (('in', 'time'), 1), (('too', 'late'), 1), (('satellite', 'images'), 1), (('of', '56'), 1), (('revealed', 'that'), 1), (('200', 'glacial'), 1), (('last', 'week'), 2), (('But', 'glaciologists'), 1), (('region', 'that'), 1), (('past', 'three'), 1), (('against', 'the'), 1), (('downstream', 'of'), 1), (('retreating', 'glaciers'), 1), (('technology', 'department'), 1), ((',', \"''\"), 5), (('to', 'rockfalls'), 1), (('is', 'in'), 1), (('issued', 'to'), 1), (('.', 'Switzerland'), 1), (('systems', 'for'), 3), (('national', 'and'), 1), (('glaciers', 'have'), 1), (('especially', 'since'), 1), (('named', ','), 1), (('the', 'Teesta'), 1), ((',', 'just'), 1), (('taking', 'so'), 1), (('also', 'increasingly'), 1), (('even', 'linked'), 1), (('sensitivities', 'which'), 1), (('An', 'early'), 1), (('faster', 'and'), 1), (('embassy', 'in'), 1), (('BBC', 'with'), 1), (('on', 'rivers'), 1), (('had', 'already'), 1), (('.', 'The'), 3), (('And', 'there'), 1), ((',', 'getting'), 1), (('burst', 'its'), 1), ((',', 'fast-melting'), 1), (('high', 'possibility'), 1), (('it', 'has'), 2), (('What', 'caused'), 1), (('specialist', 'with'), 1), (('lead', 'to'), 1), (('to', 'an'), 2), (('to', 'the'), 2), (('Perhaps', 'the'), 1), (('and', 'require'), 1), (('damage', '.'), 1), (('been', 'protesting'), 1), (('are', 'missing'), 1), (('bursting', '.'), 1), (('Miriam', 'Jackson'), 1), (('the', 'setting'), 1), (('the', 'construction'), 1), (('added', '.'), 1), (('studies', 'had'), 1), (('at', 'higher'), 1), (('who', 'did'), 1), (('in', 'India'), 1), (('causing', 'glaciers'), 1), (('risk-mitigating', 'actions'), 1), (('maintained', ','), 1), (('by', 'loose'), 1), (('It', 'has'), 1), (('the', 'slope'), 1), (('and', 'checking'), 2), (('if', 'the'), 1), (('say', 'global'), 2), (('In', 'other'), 1)]\n"
          ]
        }
      ]
    },
    {
      "cell_type": "markdown",
      "source": [
        "HashingVectorizer converts a collection of text documents to a matrix of token occurrences. This text vectorizer implementation uses the hashing trick to find the token stream name to feature integer index mapping.\n",
        "\n",
        "\n",
        "What is the difference between hashing and count vectorizer?\n",
        "\n",
        "with hashing vectorizer, it shows the position of the text whether it occurs in first or middle. The position can tell where the text was placed whereas the count vectorizer does not perform this functionality"
      ],
      "metadata": {
        "id": "FvpAnOE3yFeS"
      }
    },
    {
      "cell_type": "code",
      "source": [
        "# HashingVectorizer\n",
        "from sklearn.feature_extraction.text import HashingVectorizer\n",
        "hash_vec = HashingVectorizer(n_features=100)\n",
        "X_hash = hash_vec.fit_transform([text])\n",
        "print('HashingVectorizer:')\n",
        "print(X_hash.shape, X_hash.toarray()[0])"
      ],
      "metadata": {
        "colab": {
          "base_uri": "https://localhost:8080/"
        },
        "id": "GMNo5C0ZHBeR",
        "outputId": "6c1f5c06-27c1-4c0f-da5f-09bdf2064f52"
      },
      "execution_count": null,
      "outputs": [
        {
          "output_type": "stream",
          "name": "stdout",
          "text": [
            "HashingVectorizer:\n",
            "(1, 100) [ 0.02102237 -0.05255593 -0.02102237  0.06306712 -0.06306712 -0.02102237\n",
            " -0.02102237 -0.01051119  0.01051119  0.02102237  0.12613423  0.01051119\n",
            " -0.02102237 -0.02102237  0.04204474  0.03153356 -0.01051119  0.\n",
            "  0.16817897 -0.04204474  0.04204474  0.03153356 -0.02102237 -0.01051119\n",
            "  0.         -0.05255593  0.         -0.03153356 -0.1471566  -0.05255593\n",
            "  0.         -0.01051119 -0.01051119 -0.04204474  0.03153356  0.05255593\n",
            "  0.08408949  0.06306712  0.02102237  0.06306712  0.         -0.04204474\n",
            " -0.0735783   0.0735783   0.         -0.16817897  0.         -0.02102237\n",
            "  0.04204474  0.02102237  0.01051119  0.04204474 -0.05255593  0.\n",
            "  0.         -0.0735783   0.03153356  0.         -0.56760404 -0.02102237\n",
            " -0.10511186 -0.01051119  0.06306712 -0.10511186  0.          0.02102237\n",
            "  0.04204474 -0.01051119  0.01051119 -0.04204474  0.          0.01051119\n",
            " -0.02102237 -0.01051119  0.01051119  0.10511186  0.01051119  0.04204474\n",
            " -0.05255593  0.02102237 -0.01051119 -0.08408949  0.03153356  0.10511186\n",
            "  0.02102237  0.08408949 -0.02102237 -0.02102237 -0.01051119  0.24175728\n",
            "  0.          0.08408949  0.08408949 -0.04204474  0.03153356 -0.1471566\n",
            "  0.54658167 -0.13664542 -0.04204474  0.12613423]\n"
          ]
        }
      ]
    },
    {
      "cell_type": "markdown",
      "source": [
        "Each document is made up of various words, and each topic also has various words belonging to it. Its is one of the topic modelling.\n"
      ],
      "metadata": {
        "id": "dV1fC-fqzbFo"
      }
    },
    {
      "cell_type": "markdown",
      "source": [
        "what is parts of speech tagging?\n",
        "\n",
        "Part-of-speech tagging is the process of assigning a part of speech to each word in a sentence. The most common parts of speech are noun, verb, adjective, adverb, pronoun, preposition, and conjunction. There are also a few less common ones, such as interjection and article.\n",
        "\n",
        "Why ?\n",
        "\n",
        "when you are trying to parse a sentence or when you are trying to determine the meaning of a word in context.\n",
        "\n",
        "\n",
        "Different cateogries:\n",
        "\n",
        "Noun (NN): A person, place, thing, or idea\n",
        "Verb (VB): An action or occurrence\n",
        "Adjective (JJ): A word that describes a noun or pronoun\n",
        "Adverb (RB): A word that describes a verb, adjective, or other adverb\n",
        "Pronoun (PRP): A word that takes the place of a noun\n",
        "Conjunction (CC): A word that connects words, phrases, or clauses\n",
        "Preposition (IN): A word that shows a relationship between a noun or pronoun and other elements in a sentence\n",
        "Interjection (UH): A word or phrase used to express strong emotion\n",
        "\n",
        "Where it can be used?\n",
        "\n",
        "named entity recognition — This is where POS tagging can be used to identify proper nouns in a text, which can then be used to extract information about people, places, organizations, etc.\n",
        "\n",
        "\n",
        "sentiment analysis — By identifying words with positive or negative connotations, POS tagging can be used to calculate the overall sentiment of a piece of text.\n",
        "\n",
        "\n",
        "topic identification — By looking at which words are most commonly used together, POS tagging can help automatically identify the main topics of a document.\n",
        "\n",
        "\n",
        "machine translation — In order for machines to translate one language into another, they need to understand the grammar and structure of the source language. POS tagging can be used to provide this understanding, allowing for more accurate translations.\n",
        "\n",
        "\n",
        "question answering — When trying to answer questions based on documents, machines need to be able to identify the key parts of speech in the question in order to correctly find the relevant information in the text."
      ],
      "metadata": {
        "id": "HbRL5wff2x8w"
      }
    },
    {
      "cell_type": "code",
      "source": [
        "nltk.download('averaged_perceptron_tagger')\n",
        "\n",
        "# Tokenize the text into sentences and words\n",
        "sentences = nltk.sent_tokenize(text)\n",
        "words = [nltk.word_tokenize(sentence) for sentence in sentences]\n",
        "\n",
        "# Perform POS tagging on the words\n",
        "pos_tags = [nltk.pos_tag(sentence) for sentence in words]\n",
        "\n",
        "# Print the POS tags\n",
        "for sentence in pos_tags:\n",
        "    print(sentence)"
      ],
      "metadata": {
        "colab": {
          "base_uri": "https://localhost:8080/"
        },
        "id": "__FRQDAVH82A",
        "outputId": "e682ca34-25d5-4971-c260-f84dc5f4e44f"
      },
      "execution_count": null,
      "outputs": [
        {
          "output_type": "stream",
          "name": "stdout",
          "text": [
            "[('A', 'DT'), ('deadly', 'JJ'), ('flash', 'NN'), ('flood', 'NN'), ('in', 'IN'), ('the', 'DT'), ('north-east', 'JJ'), ('state', 'NN'), ('of', 'IN'), ('Sikkim', 'NNP'), ('shows', 'NNS'), ('why', 'WRB'), ('India', 'NNP'), ('urgently', 'RB'), ('needs', 'VBZ'), ('to', 'TO'), ('install', 'VB'), ('advanced', 'JJ'), ('early', 'JJ'), ('warning', 'NN'), ('systems', 'NNS'), ('for', 'IN'), ('its', 'PRP$'), ('dangerous', 'JJ'), ('glacial', 'JJ'), ('lakes', 'NNS'), (',', ','), ('experts', 'NNS'), ('say', 'VBP'), ('.', '.')]\n",
            "[('At', 'IN'), ('least', 'JJS'), ('70', 'CD'), ('people', 'NNS'), ('-', ':'), ('including', 'VBG'), ('nine', 'CD'), ('soldiers', 'NNS'), ('-', ':'), ('have', 'VBP'), ('died', 'VBN'), (',', ','), ('and', 'CC'), ('more', 'JJR'), ('than', 'IN'), ('100', 'CD'), ('others', 'NNS'), ('are', 'VBP'), ('missing', 'VBG'), ('after', 'IN'), ('South', 'NNP'), ('Lhonak', 'NNP'), (',', ','), ('a', 'DT'), ('glacial', 'JJ'), ('lake', 'NN'), ('in', 'IN'), ('the', 'DT'), ('Himalayas', 'NNP'), (',', ','), ('burst', 'VBD'), ('its', 'PRP$'), ('banks', 'NNS'), ('last', 'JJ'), ('week', 'NN'), ('.', '.')]\n",
            "[('Such', 'JJ'), ('outbursts', 'NNS'), ('-', ':'), ('or', 'CC'), ('the', 'DT'), ('sudden', 'JJ'), ('release', 'NN'), ('of', 'IN'), ('water', 'NN'), ('from', 'IN'), ('a', 'DT'), ('lake', 'NN'), ('fed', 'VBN'), ('by', 'IN'), ('a', 'DT'), ('glacier', 'JJR'), ('-', ':'), ('can', 'MD'), ('be', 'VB'), ('triggered', 'VBN'), ('by', 'IN'), ('heavy', 'JJ'), ('rains', 'NNS'), (',', ','), ('earthquakes', 'NNS'), ('or', 'CC'), ('avalanches', 'NNS'), ('.', '.')]\n",
            "[('An', 'DT'), ('early', 'JJ'), ('warning', 'NN'), ('system', 'NN'), ('can', 'MD'), ('help', 'VB'), ('authorities', 'NNS'), ('evacuate', 'VBP'), ('people', 'NNS'), ('in', 'IN'), ('time', 'NN'), ('and', 'CC'), ('open', 'VB'), ('the', 'DT'), ('flood', 'NN'), ('gates', 'NNS'), ('from', 'IN'), ('dams', 'JJ'), ('downstream', 'NN'), ('to', 'TO'), ('minimise', 'VB'), ('damage', 'NN'), ('.', '.')]\n",
            "[('After', 'IN'), ('the', 'DT'), ('Sikkim', 'NNP'), ('disaster', 'NN'), (',', ','), ('India', 'NNP'), (\"'s\", 'POS'), ('National', 'NNP'), ('Disaster', 'NNP'), ('Management', 'NNP'), ('Authority', 'NNP'), ('(', '('), ('NDMA', 'NNP'), (')', ')'), ('revealed', 'VBD'), ('that', 'IN'), ('in', 'IN'), ('early', 'JJ'), ('September', 'NNP'), ('it', 'PRP'), ('had', 'VBD'), ('surveyed', 'VBN'), ('two', 'CD'), ('at-risk', 'JJ'), ('lakes', 'NNS'), ('in', 'IN'), ('order', 'NN'), ('to', 'TO'), ('deploy', 'VB'), ('early', 'JJ'), ('warning', 'NN'), ('systems', 'NNS'), ('for', 'IN'), ('real-time', 'JJ'), ('alerts', 'NNS'), ('in', 'IN'), ('the', 'DT'), ('event', 'NN'), ('of', 'IN'), ('glacial', 'JJ'), ('lake', 'NN'), ('outbursts', 'NNS'), ('.', '.')]\n",
            "[('One', 'CD'), ('of', 'IN'), ('lakes', 'NNS'), ('surveyed', 'VBN'), ('was', 'VBD'), ('at', 'IN'), ('South', 'NNP'), ('Lhonak', 'NNP'), (',', ','), ('where', 'WRB'), ('some', 'DT'), ('work', 'NN'), ('for', 'IN'), ('early', 'JJ'), ('warnings', 'NNS'), ('were', 'VBD'), ('initiated', 'VBN'), (',', ','), ('the', 'DT'), ('BBC', 'NNP'), ('has', 'VBZ'), ('learnt', 'VBN'), ('.', '.')]\n",
            "[('But', 'CC'), ('the', 'DT'), ('flood', 'NN'), ('just', 'RB'), ('weeks', 'NNS'), ('later', 'RB'), ('has', 'VBZ'), ('made', 'VBN'), ('people', 'NNS'), ('question', 'VBP'), ('why', 'WRB'), ('there', 'EX'), ('was', 'VBD'), ('no', 'DT'), ('functioning', 'VBG'), ('early', 'RB'), ('warning', 'VBG'), ('system', 'NN'), ('in', 'IN'), ('place', 'NN'), ('already', 'RB'), (',', ','), ('especially', 'RB'), ('since', 'IN'), ('the', 'DT'), ('lake', 'NN'), ('has', 'VBZ'), ('long', 'RB'), ('been', 'VBN'), ('known', 'VBN'), ('to', 'TO'), ('be', 'VB'), ('dangerous', 'JJ'), ('.', '.')]\n",
            "[('What', 'WP'), ('caused', 'VBD'), ('the', 'DT'), ('outburst', 'NN'), ('at', 'IN'), ('South', 'NNP'), ('Lhonak', 'NNP'), ('remains', 'VBZ'), ('unclear', 'JJ'), ('.', '.')]\n",
            "[('Some', 'DT'), ('say', 'VBP'), ('it', 'PRP'), ('may', 'MD'), ('have', 'VB'), ('resulted', 'VBN'), ('from', 'IN'), ('a', 'DT'), ('cloudburst', 'NN'), (',', ','), ('while', 'IN'), ('others', 'NNS'), ('say', 'VBP'), ('there', 'EX'), ('was', 'VBD'), ('no', 'DT'), ('such', 'JJ'), ('heavy', 'JJ'), ('concentrated', 'VBN'), ('rainfall', 'NN'), ('.', '.')]\n",
            "[('They', 'PRP'), ('attribute', 'VBP'), ('the', 'DT'), ('disaster', 'NN'), ('to', 'TO'), ('the', 'DT'), ('failure', 'NN'), ('of', 'IN'), ('the', 'DT'), ('moraines', 'NNS'), (',', ','), ('characterised', 'VBN'), ('by', 'IN'), ('loose', 'JJ'), ('boulders', 'NNS'), (',', ','), ('rocks', 'NNS'), ('and', 'CC'), ('soil', 'NN'), ('at', 'IN'), ('the', 'DT'), ('edge', 'NN'), ('of', 'IN'), ('the', 'DT'), ('glacial', 'JJ'), ('lake', 'NN'), ('.', '.')]\n",
            "[('Some', 'DT'), ('have', 'VBP'), ('even', 'RB'), ('linked', 'VBN'), ('it', 'PRP'), ('to', 'TO'), ('an', 'DT'), ('earthquake', 'NN'), ('.', '.')]\n",
            "[('Several', 'JJ'), ('studies', 'NNS'), ('had', 'VBD'), ('warned', 'VBN'), ('that', 'IN'), ('there', 'EX'), ('was', 'VBD'), ('a', 'DT'), ('high', 'JJ'), ('possibility', 'NN'), ('of', 'IN'), ('South', 'NNP'), ('Lhonak', 'NNP'), ('lake', 'NN'), ('flooding', 'NN'), ('.', '.')]\n",
            "[('The', 'DT'), ('lake', 'NN'), (\"'s\", 'POS'), ('area', 'NN'), ('had', 'VBD'), ('expanded', 'VBN'), ('more', 'RBR'), ('than', 'IN'), ('2.5', 'CD'), ('times', 'NNS'), ('in', 'IN'), ('the', 'DT'), ('past', 'JJ'), ('three', 'CD'), ('decades', 'NNS'), ('because', 'IN'), ('of', 'IN'), ('a', 'DT'), ('rapidly', 'RB'), ('melting', 'VBG'), ('glacier', 'NN'), ('that', 'WDT'), ('feeds', 'VBZ'), ('it', 'PRP'), ('.', '.')]\n",
            "[('In', 'IN'), ('2016', 'CD'), (',', ','), ('authorities', 'NNS'), ('drew', 'VBD'), ('out', 'RP'), ('some', 'DT'), ('of', 'IN'), ('the', 'DT'), ('lake', 'NN'), (\"'s\", 'POS'), ('water', 'NN'), ('to', 'TO'), ('prevent', 'VB'), ('it', 'PRP'), ('from', 'IN'), ('overflowing', 'VBG'), ('.', '.')]\n",
            "[('But', 'CC'), ('an', 'DT'), ('early', 'JJ'), ('warning', 'NN'), ('system', 'NN'), ('was', 'VBD'), (\"n't\", 'RB'), ('set', 'VBN'), ('up', 'RP'), ('.', '.')]\n",
            "[('People', 'NNS'), ('working', 'VBG'), ('at', 'IN'), ('the', 'DT'), ('Chungthang', 'NNP'), ('dam', 'NN'), (',', ','), ('which', 'WDT'), ('is', 'VBZ'), ('downstream', 'NN'), ('of', 'IN'), ('the', 'DT'), ('Teesta', 'NNP'), ('river', 'NN'), ('and', 'CC'), ('collapsed', 'JJ'), ('because', 'IN'), ('of', 'IN'), ('the', 'DT'), ('flood', 'NN'), (',', ','), ('told', 'VBD'), ('local', 'JJ'), ('media', 'NNS'), ('that', 'WDT'), ('when', 'WRB'), ('they', 'PRP'), ('received', 'VBD'), ('orders', 'NNS'), ('to', 'TO'), ('open', 'VB'), ('the', 'DT'), ('dam', 'NN'), (\"'s\", 'POS'), ('floodgates', 'NNS'), ('it', 'PRP'), ('was', 'VBD'), ('too', 'RB'), ('late', 'JJ'), ('-', ':'), ('flood', 'NN'), ('waters', 'NNS'), ('had', 'VBD'), ('already', 'RB'), ('started', 'VBN'), ('hitting', 'VBG'), ('the', 'DT'), ('infrastructure', 'NN'), ('.', '.')]\n",
            "[('Experts', 'NNS'), ('say', 'VBP'), ('global', 'JJ'), ('warming', 'NN'), ('is', 'VBZ'), ('causing', 'VBG'), ('glaciers', 'NNS'), ('to', 'TO'), ('melt', 'VB'), ('faster', 'RBR'), ('and', 'CC'), ('this', 'DT'), ('has', 'VBZ'), ('led', 'VBN'), ('to', 'TO'), ('an', 'DT'), ('increase', 'NN'), ('in', 'IN'), ('the', 'DT'), ('water', 'NN'), ('levels', 'NNS'), ('of', 'IN'), ('several', 'JJ'), ('Himalayan', 'NNP'), ('lakes', 'NNS'), ('.', '.')]\n",
            "[('It', 'PRP'), ('has', 'VBZ'), ('also', 'RB'), ('led', 'VBN'), ('to', 'TO'), ('new', 'JJ'), ('lakes', 'NNS'), ('being', 'VBG'), ('formed', 'VBN'), ('or', 'CC'), ('old', 'JJ'), ('lakes', 'NNS'), ('fusing', 'VBG'), ('together', 'RB'), ('.', '.')]\n",
            "[('These', 'DT'), ('lakes', 'NNS'), ('have', 'VBP'), ('become', 'VBN'), ('dangerous', 'JJ'), ('as', 'IN'), ('they', 'PRP'), ('could', 'MD'), ('flood', 'VB'), ('due', 'JJ'), ('to', 'TO'), ('rockfalls', 'NNS'), (',', ','), ('cloudbursts', 'NNS'), ('or', 'CC'), ('avalanches', 'NNS'), ('.', '.')]\n",
            "[('The', 'DT'), ('NDMA', 'NNP'), ('says', 'VBZ'), ('it', 'PRP'), ('has', 'VBZ'), ('plans', 'VBZ'), ('``', '``'), ('to', 'TO'), ('install', 'VB'), ('early', 'JJ'), ('warning', 'NN'), ('systems', 'NNS'), ('for', 'IN'), ('real-time', 'JJ'), ('alerts', 'NNS'), ('at', 'IN'), ('most', 'JJS'), ('of', 'IN'), ('56', 'CD'), ('at-risk', 'JJ'), ('glacial', 'JJ'), ('lakes', 'NNS'), ('in', 'IN'), ('India', 'NNP'), (\"''\", \"''\"), ('.', '.')]\n",
            "[('The', 'DT'), ('International', 'NNP'), ('Centre', 'NNP'), ('for', 'IN'), ('Integrated', 'NNP'), ('Mountain', 'NNP'), ('Development', 'NNP'), (',', ','), ('an', 'DT'), ('NGO', 'NNP'), ('specialising', 'NN'), ('in', 'IN'), ('Himalayan', 'NNP'), ('hazards', 'NNS'), (',', ','), ('estimates', 'NNS'), ('that', 'IN'), ('up', 'IN'), ('to', 'TO'), ('200', 'CD'), ('glacial', 'JJ'), ('lakes', 'NNS'), ('across', 'IN'), ('the', 'DT'), ('Himalayas', 'NNP'), ('are', 'VBP'), ('in', 'IN'), ('a', 'DT'), ('dangerous', 'JJ'), ('state', 'NN'), ('.', '.')]\n",
            "[('In', 'IN'), ('other', 'JJ'), ('words', 'NNS'), (',', ','), ('they', 'PRP'), ('could', 'MD'), ('burst', 'VB'), ('at', 'IN'), ('any', 'DT'), ('time', 'NN'), (',', ','), ('just', 'RB'), ('like', 'IN'), ('South', 'NNP'), ('Lhonak', 'NNP'), ('.', '.')]\n",
            "[('Sikkim', 'NNP'), ('alone', 'RB'), ('has', 'VBZ'), ('more', 'JJR'), ('than', 'IN'), ('700', 'CD'), ('small', 'JJ'), ('and', 'CC'), ('large', 'JJ'), ('glacial', 'JJ'), ('lakes', 'NNS'), ('and', 'CC'), ('experts', 'NNS'), ('say', 'VBP'), ('around', 'IN'), ('20', 'CD'), ('are', 'VBP'), ('at', 'IN'), ('risk', 'NN'), ('of', 'IN'), ('bursting', 'NN'), ('.', '.')]\n",
            "[('Dhiren', 'NNP'), ('Shrestha', 'NNP'), (',', ','), ('director', 'NN'), ('of', 'IN'), ('Sikkim', 'NNP'), (\"'s\", 'POS'), ('science', 'NN'), ('and', 'CC'), ('technology', 'NN'), ('department', 'NN'), (',', ','), ('confirmed', 'VBD'), ('that', 'IN'), ('Lhonak', 'NNP'), ('was', 'VBD'), ('being', 'VBG'), ('monitored', 'VBN'), ('and', 'CC'), ('was', 'VBD'), ('identified', 'VBN'), ('as', 'IN'), ('dangerous', 'JJ'), ('.', '.')]\n",
            "[('But', 'CC'), ('he', 'PRP'), ('did', 'VBD'), ('not', 'RB'), ('reply', 'VB'), ('to', 'TO'), ('the', 'DT'), ('BBC', 'NNP'), (\"'s\", 'POS'), ('questions', 'NNS'), ('about', 'IN'), ('why', 'WRB'), ('the', 'DT'), ('lake', 'NN'), ('did', 'VBD'), (\"n't\", 'RB'), ('have', 'VB'), ('an', 'DT'), ('early', 'JJ'), ('warning', 'NN'), ('system', 'NN'), ('and', 'CC'), ('how', 'WRB'), ('warnings', 'NNS'), ('had', 'VBD'), ('been', 'VBN'), ('issued', 'VBN'), ('to', 'TO'), ('settlements', 'NNS'), ('and', 'CC'), ('key', 'JJ'), ('buildings', 'NNS'), ('downstream', 'NN'), ('after', 'IN'), ('the', 'DT'), ('lake', 'NN'), ('begin', 'NN'), ('to', 'TO'), ('flood', 'NN'), ('.', '.')]\n",
            "[('None', 'NN'), ('of', 'IN'), ('India', 'NNP'), (\"'s\", 'POS'), ('other', 'JJ'), ('federal', 'JJ'), ('agencies', 'NNS'), (',', ','), ('including', 'VBG'), ('the', 'DT'), ('NDMA', 'NNP'), (',', ','), ('the', 'DT'), ('Central', 'NNP'), ('Water', 'NNP'), ('Commission', 'NNP'), ('or', 'CC'), ('Ministry', 'NNP'), ('of', 'IN'), ('Water', 'NNP'), ('Resources', 'NNPS'), ('responded', 'VBD'), ('to', 'TO'), ('these', 'DT'), ('questions', 'NNS'), ('either', 'RB'), ('.', '.')]\n",
            "[('Switzerland', 'NNP'), ('has', 'VBZ'), ('been', 'VBN'), ('helping', 'VBG'), ('the', 'DT'), ('NDMA', 'NNP'), ('install', 'VB'), ('an', 'DT'), ('early-warning', 'JJ'), ('system', 'NN'), ('in', 'IN'), ('South', 'NNP'), ('Lhonak', 'NNP'), ('.', '.')]\n",
            "[('Its', 'PRP$'), ('embassy', 'NN'), ('in', 'IN'), ('Delhi', 'NNP'), ('did', 'VBD'), ('not', 'RB'), ('provide', 'VB'), ('the', 'DT'), ('BBC', 'NNP'), ('with', 'IN'), ('details', 'NNS'), ('or', 'CC'), ('explain', 'VB'), ('why', 'WRB'), ('the', 'DT'), ('work', 'NN'), ('was', 'VBD'), ('taking', 'VBG'), ('so', 'RB'), ('long', 'RB'), ('.', '.')]\n",
            "[('``', '``'), ('Perhaps', 'RB'), ('the', 'DT'), ('lack', 'NN'), ('of', 'IN'), ('an', 'DT'), ('early', 'JJ'), ('warning', 'NN'), ('system', 'NN'), ('has', 'VBZ'), ('to', 'TO'), ('do', 'VB'), ('with', 'IN'), ('bureaucracy', 'NN'), ('and', 'CC'), ('also', 'RB'), ('the', 'DT'), ('fact', 'NN'), ('that', 'IN'), ('several', 'JJ'), ('national', 'JJ'), ('and', 'CC'), ('international', 'JJ'), ('agencies', 'NNS'), ('are', 'VBP'), ('involved', 'VBN'), ('in', 'IN'), ('this', 'DT'), ('work', 'NN'), ('[', 'RB'), ('setting', 'VBG'), ('up', 'RP'), ('the', 'DT'), ('system', 'NN'), (']', 'NN'), (',', ','), (\"''\", \"''\"), ('Rajeev', 'NNP'), ('Rajak', 'NNP'), (',', ','), ('a', 'DT'), ('glaciology', 'NN'), ('student', 'NN'), ('at', 'IN'), ('Sikkim', 'NNP'), ('University', 'NNP'), (',', ','), ('said', 'VBD'), ('.', '.')]\n",
            "[('Some', 'DT'), ('campaigners', 'NNS'), ('who', 'WP'), ('have', 'VBP'), ('been', 'VBN'), ('protesting', 'VBG'), ('against', 'IN'), ('the', 'DT'), ('construction', 'NN'), ('of', 'IN'), ('dams', 'NNS'), ('on', 'IN'), ('rivers', 'NNS'), ('originating', 'VBG'), ('in', 'IN'), ('the', 'DT'), ('Himalayas', 'NNP'), ('said', 'VBD'), ('that', 'IN'), ('South', 'NNP'), ('Lhonak', 'NNP'), ('lake', 'NN'), ('was', 'VBD'), ('sensitive', 'JJ'), ('from', 'IN'), ('a', 'DT'), ('defence', 'NN'), ('point', 'NN'), ('of', 'IN'), ('view', 'NN'), ('and', 'CC'), ('this', 'DT'), ('may', 'MD'), ('have', 'VB'), ('slowed', 'VBN'), ('down', 'RP'), ('the', 'DT'), ('setting', 'VBG'), ('up', 'RP'), ('of', 'IN'), ('a', 'DT'), ('warning', 'NN'), ('system', 'NN'), ('.', '.')]\n",
            "[('``', '``'), ('The', 'DT'), ('lake', 'NN'), ('is', 'VBZ'), ('in', 'IN'), ('the', 'DT'), ('region', 'NN'), ('that', 'IN'), ('borders', 'VBZ'), ('China', 'NNP'), (\"'s\", 'POS'), ('autonomous', 'JJ'), ('region', 'NN'), ('of', 'IN'), ('Tibet', 'NNP'), (',', ','), ('and', 'CC'), ('that', 'IN'), ('certainly', 'RB'), ('entails', 'VBZ'), ('military', 'JJ'), ('sensitivities', 'NNS'), ('which', 'WDT'), ('means', 'VBZ'), ('any', 'DT'), ('non-military', 'JJ'), ('work', 'NN'), ('will', 'MD'), ('take', 'VB'), ('time', 'NN'), (',', ','), (\"''\", \"''\"), ('a', 'DT'), ('campaigner', 'NN'), (',', ','), ('who', 'WP'), ('did', 'VBD'), (\"n't\", 'RB'), ('want', 'VB'), ('to', 'TO'), ('be', 'VB'), ('named', 'VBN'), (',', ','), ('said', 'VBD'), ('.', '.')]\n",
            "[('But', 'CC'), ('glaciologists', 'NNS'), ('say', 'VBP'), ('global', 'JJ'), ('warming-induced', 'JJ'), ('changes', 'NNS'), ('are', 'VBP'), ('happening', 'VBG'), ('very', 'RB'), ('fast', 'RB'), ('in', 'IN'), ('the', 'DT'), ('Himalayas', 'NNP'), ('and', 'CC'), ('require', 'VB'), ('constant', 'JJ'), ('monitoring', 'NN'), ('and', 'CC'), ('risk-mitigating', 'JJ'), ('actions', 'NNS'), ('.', '.')]\n",
            "[('``', '``'), ('We', 'PRP'), ('are', 'VBP'), ('running', 'VBG'), ('out', 'IN'), ('of', 'IN'), ('time', 'NN'), (',', ','), (\"''\", \"''\"), ('Miriam', 'NNP'), ('Jackson', 'NNP'), (',', ','), ('a', 'DT'), ('senior', 'JJ'), ('cryosphere', 'JJ'), ('specialist', 'NN'), ('with', 'IN'), ('the', 'DT'), ('International', 'NNP'), ('Centre', 'NNP'), ('for', 'IN'), ('Integrated', 'NNP'), ('Mountain', 'NNP'), ('Development', 'NNP'), ('(', '('), ('ICIMOD', 'NNP'), (')', ')'), (',', ','), ('said', 'VBD'), ('.', '.')]\n",
            "[('``', '``'), ('And', 'CC'), ('there', 'EX'), ('is', 'VBZ'), ('so', 'RB'), ('much', 'JJ'), ('to', 'TO'), ('do', 'VB'), ('including', 'VBG'), ('monitoring', 'NN'), ('of', 'IN'), ('the', 'DT'), ('lakes', 'NNS'), (',', ','), ('installing', 'VBG'), ('early', 'JJ'), ('warning', 'NN'), ('systems', 'NNS'), (',', ','), ('getting', 'VBG'), ('the', 'DT'), ('local', 'JJ'), ('communities', 'NNS'), ('involved', 'VBN'), ('and', 'CC'), ('checking', 'VBG'), ('if', 'IN'), ('the', 'DT'), ('equipment', 'NN'), ('for', 'IN'), ('monitoring', 'NN'), ('and', 'CC'), ('issuing', 'VBG'), ('early', 'JJ'), ('warning', 'NN'), ('are', 'VBP'), ('maintained', 'VBN'), (',', ','), (\"''\", \"''\"), ('she', 'PRP'), ('added', 'VBD'), ('.', '.')]\n",
            "[('Meanwhile', 'RB'), (',', ','), ('the', 'DT'), ('number', 'NN'), ('of', 'IN'), ('factors', 'NNS'), ('that', 'WDT'), ('make', 'VBP'), ('glacial', 'JJ'), ('lakes', 'NNS'), ('dangerous', 'JJ'), ('have', 'VBP'), ('increased', 'VBN'), ('with', 'IN'), ('the', 'DT'), ('climate', 'NN'), ('becoming', 'VBG'), ('warmer', 'NN'), ('.', '.')]\n",
            "[('Traditionally', 'RB'), (',', ','), ('fast-melting', 'JJ'), ('glaciers', 'NNS'), ('rapidly', 'RB'), ('filling', 'VBG'), ('up', 'RP'), ('glacial', 'JJ'), ('lakes', 'NNS'), ('were', 'VBD'), ('mostly', 'RB'), ('seen', 'VBN'), ('as', 'IN'), ('the', 'DT'), ('main', 'JJ'), ('problem', 'NN'), ('.', '.')]\n",
            "[('But', 'CC'), ('thinning', 'VBG'), ('and', 'CC'), ('retreating', 'VBG'), ('glaciers', 'NNS'), ('have', 'VBP'), ('also', 'RB'), ('increasingly', 'RB'), ('meant', 'VB'), ('that', 'IN'), ('the', 'DT'), ('geography', 'NN'), ('of', 'IN'), ('the', 'DT'), ('place', 'NN'), ('becomes', 'VBZ'), ('unstable', 'JJ'), (',', ','), ('resulting', 'VBG'), ('in', 'IN'), ('rockfalls', 'NNS'), ('and', 'CC'), ('avalanches', 'NNS'), ('.', '.')]\n",
            "[('Scientists', 'NNS'), ('say', 'VBP'), ('that', 'IN'), ('rising', 'VBG'), ('temperatures', 'NNS'), (',', ','), ('leading', 'VBG'), ('to', 'TO'), ('rains', 'NNS'), ('at', 'IN'), ('higher', 'JJR'), ('altitudes', 'NNS'), ('where', 'WRB'), ('it', 'PRP'), ('mostly', 'RB'), ('snowed', 'VBD'), ('in', 'IN'), ('the', 'DT'), ('past', 'NN'), (',', ','), ('are', 'VBP'), ('causing', 'VBG'), ('geological', 'JJ'), ('instability', 'NN'), ('in', 'IN'), ('mountainous', 'JJ'), ('regions', 'NNS'), ('worldwide', 'VBP'), (',', ','), ('including', 'VBG'), ('the', 'DT'), ('Himalayas', 'NNP'), ('.', '.')]\n",
            "[('Warming', 'VBG'), ('also', 'RB'), ('means', 'VBZ'), ('thawing', 'NN'), ('of', 'IN'), ('permafrost', 'NN'), ('(', '('), ('land', 'NN'), ('which', 'WDT'), ('otherwise', 'RB'), ('remains', 'VBZ'), ('permanently', 'RB'), ('frozen', 'VBN'), ('on', 'IN'), ('mountains', 'NNS'), (')', ')'), ('which', 'WDT'), ('can', 'MD'), ('lead', 'VB'), ('to', 'TO'), ('slope', 'VB'), ('failures', 'NNS'), ('(', '('), ('a', 'DT'), ('slope', 'NN'), ('collapses', 'VBZ'), ('abruptly', 'RB'), ('due', 'JJ'), ('to', 'TO'), ('rain', 'VB'), ('or', 'CC'), ('other', 'JJ'), ('factors', 'NNS'), (')', ')'), ('that', 'WDT'), ('can', 'MD'), ('then', 'RB'), ('cause', 'VB'), ('glacial', 'JJ'), ('lakes', 'NNS'), ('to', 'TO'), ('flood', 'VB'), ('.', '.')]\n",
            "[('``', '``'), ('There', 'EX'), (\"'s\", 'VBZ'), ('evidence', 'NN'), ('that', 'IN'), ('the', 'DT'), ('slope', 'NN'), ('that', 'WDT'), ('caused', 'VBD'), ('the', 'DT'), ('South', 'NNP'), ('Lhonak', 'NNP'), ('to', 'TO'), ('flood', 'VB'), ('moved', 'VBN'), ('faster', 'RBR'), ('than', 'IN'), ('it', 'PRP'), ('has', 'VBZ'), ('in', 'IN'), ('years', 'NNS'), (',', ','), (\"''\", \"''\"), ('says', 'VBZ'), ('Jacob', 'NNP'), ('Steiner', 'NNP'), (',', ','), ('a', 'DT'), ('researcher', 'NN'), ('with', 'IN'), ('ICIMOD', 'NNP'), ('.', '.')]\n",
            "[('``', '``'), ('Scientists', 'NNS'), ('are', 'VBP'), ('now', 'RB'), ('looking', 'VBG'), ('at', 'IN'), ('slope', 'NN'), ('failures', 'NNS'), ('(', '('), ('via', 'IN'), ('satellite', 'NN'), ('images', 'NNS'), (')', ')'), ('across', 'IN'), ('all', 'DT'), ('lakes', 'NNS'), ('mapping', 'VBG'), ('all', 'DT'), ('slopes', 'NNS'), ('around', 'IN'), ('all', 'DT'), ('lakes', 'NNS'), ('and', 'CC'), ('checking', 'VBG'), ('how', 'WRB'), ('many', 'JJ'), ('of', 'IN'), ('them', 'PRP'), ('have', 'VBP'), ('moved', 'VBN'), ('exceptionally', 'RB'), ('(', '('), ('fast', 'RB'), (')', ')'), ('.', '.'), (\"''\", \"''\")]\n",
            "[('But', 'CC'), ('all', 'DT'), ('that', 'IN'), ('monitoring', 'NN'), ('will', 'MD'), ('only', 'RB'), ('be', 'VB'), ('of', 'IN'), ('use', 'NN'), ('if', 'IN'), ('there', 'EX'), ('are', 'VBP'), ('early', 'JJ'), ('warning', 'VBG'), ('systems', 'NNS'), ('in', 'IN'), ('place', 'NN'), ('for', 'IN'), ('when', 'WRB'), ('a', 'DT'), ('glacial', 'JJ'), ('lake', 'NN'), ('bursts', 'NNS'), ('-', ':'), ('like', 'IN'), ('South', 'NNP'), ('Lhonak', 'NNP'), ('did', 'VBD'), ('last', 'JJ'), ('week', 'NN'), ('.', '.')]\n"
          ]
        },
        {
          "output_type": "stream",
          "name": "stderr",
          "text": [
            "[nltk_data] Downloading package averaged_perceptron_tagger to\n",
            "[nltk_data]     /root/nltk_data...\n",
            "[nltk_data]   Package averaged_perceptron_tagger is already up-to-\n",
            "[nltk_data]       date!\n"
          ]
        }
      ]
    },
    {
      "cell_type": "markdown",
      "source": [
        "UNSUPERVISED MACHINE LEARNING STARTS HERE"
      ],
      "metadata": {
        "id": "ZXp7gkUh7t13"
      }
    },
    {
      "cell_type": "code",
      "source": [
        "# Latent Dirichlet Allocation (LDA)\n",
        "from sklearn.decomposition import LatentDirichletAllocation\n",
        "lda = LatentDirichletAllocation(n_components=10, random_state=42)\n",
        "X_lda = lda.fit_transform(X_tfidf)\n",
        "print('LDA:')\n",
        "print(X_lda)"
      ],
      "metadata": {
        "colab": {
          "base_uri": "https://localhost:8080/"
        },
        "id": "r0JIcQ8GHzuL",
        "outputId": "0b6bc892-baff-46c6-826e-3c64cf8d89e3"
      },
      "execution_count": null,
      "outputs": [
        {
          "output_type": "stream",
          "name": "stdout",
          "text": [
            "LDA:\n",
            "[[0.00893421 0.00893421 0.00893421 0.00893421 0.00893421 0.00893421\n",
            "  0.00893421 0.00893421 0.9195921  0.00893421]]\n"
          ]
        }
      ]
    },
    {
      "cell_type": "markdown",
      "source": [
        "What is Supervised and Unsupervised machine learning algorithm?\n",
        "\n",
        "\n",
        "Non-negative Matrix Factorization or NMF is a method used to factorize a non-negative matrix, X, into the product of two lower rank matrices, A and B, such that AB approximates an optimal solution of X.\n",
        "\n",
        "\n",
        "\n",
        "This technique is mostly used in recommendation systems or text mining\n",
        "\n",
        "It can produce meaningful patterns, topics, and themes."
      ],
      "metadata": {
        "id": "WRYk5trx0OKW"
      }
    },
    {
      "cell_type": "code",
      "source": [
        "# Non-negative Matrix Factorization (NMF)\n",
        "nmf = NMF(n_components=10, random_state=42)\n",
        "X_nmf = nmf.fit_transform(X_tfidf)\n",
        "print('NMF:')\n",
        "print(X_nmf)"
      ],
      "metadata": {
        "colab": {
          "base_uri": "https://localhost:8080/"
        },
        "id": "bqfrx_9lH1fL",
        "outputId": "00a20b87-c6e0-4be3-beee-454d94f82eab"
      },
      "execution_count": null,
      "outputs": [
        {
          "output_type": "stream",
          "name": "stdout",
          "text": [
            "NMF:\n",
            "[[0.18255958 0.06329122 0.0295038  0.08910936 0.04951805 0.09344841\n",
            "  0.         0.04422256 0.02907843 0.0347387 ]]\n"
          ]
        }
      ]
    }
  ]
}